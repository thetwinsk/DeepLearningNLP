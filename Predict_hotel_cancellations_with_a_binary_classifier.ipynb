{
  "nbformat": 4,
  "nbformat_minor": 0,
  "metadata": {
    "colab": {
      "name": "Predict hotel cancellations with a binary classifier.ipynb",
      "provenance": [],
      "authorship_tag": "ABX9TyOJE3gqX0bZxS/PjXhLUTWt",
      "include_colab_link": true
    },
    "kernelspec": {
      "name": "python3",
      "display_name": "Python 3"
    },
    "language_info": {
      "name": "python"
    }
  },
  "cells": [
    {
      "cell_type": "markdown",
      "metadata": {
        "id": "view-in-github",
        "colab_type": "text"
      },
      "source": [
        "<a href=\"https://colab.research.google.com/github/thetwinsk/DeepLearningNLP/blob/main/Predict_hotel_cancellations_with_a_binary_classifier.ipynb\" target=\"_parent\"><img src=\"https://colab.research.google.com/assets/colab-badge.svg\" alt=\"Open In Colab\"/></a>"
      ]
    },
    {
      "cell_type": "code",
      "execution_count": 1,
      "metadata": {
        "colab": {
          "base_uri": "https://localhost:8080/"
        },
        "id": "z3kaiY0enQDb",
        "outputId": "5f92235e-4e7f-4c69-fae2-88ec437c64b5"
      },
      "outputs": [
        {
          "output_type": "stream",
          "name": "stdout",
          "text": [
            "Mounted at /content/drive\n"
          ]
        }
      ],
      "source": [
        "from google.colab import drive\n",
        "drive.mount('/content/drive')"
      ]
    },
    {
      "cell_type": "code",
      "source": [
        "%cd /content/drive/My Drive/kaggle/kaggleCourses/Intro to Deep Learning/6. Binary Classification/"
      ],
      "metadata": {
        "colab": {
          "base_uri": "https://localhost:8080/"
        },
        "id": "zi5iSqkunnz1",
        "outputId": "b2d867c8-ab34-40e3-f345-c48771bd3f44"
      },
      "execution_count": 2,
      "outputs": [
        {
          "output_type": "stream",
          "name": "stdout",
          "text": [
            "/content/drive/My Drive/kaggle/kaggleCourses/Intro to Deep Learning/6. Binary Classification\n"
          ]
        }
      ]
    },
    {
      "cell_type": "markdown",
      "source": [
        "## I.. Get-To-Know and Preprocessing"
      ],
      "metadata": {
        "id": "vtaFtXcC1Kz9"
      }
    },
    {
      "cell_type": "code",
      "source": [
        "# Setup plotting\n",
        "import matplotlib.pyplot as plt\n",
        "plt.style.use('seaborn-whitegrid')\n",
        "# Set Matplotlib defaults\n",
        "plt.rc('figure', autolayout=True)\n",
        "plt.rc('axes', labelweight='bold', labelsize='large',\n",
        "       titleweight='bold', titlesize=18, titlepad=10)\n",
        "plt.rc('animation', html='html5')"
      ],
      "metadata": {
        "id": "TdLhFubxoh35"
      },
      "execution_count": 5,
      "outputs": []
    },
    {
      "cell_type": "code",
      "source": [
        "import pandas as pd\n",
        "\n",
        "from sklearn.model_selection import train_test_split\n",
        "from sklearn.preprocessing import StandardScaler, OneHotEncoder\n",
        "from sklearn.impute import SimpleImputer\n",
        "from sklearn.pipeline import make_pipeline\n",
        "from sklearn.compose import make_column_transformer\n",
        "\n",
        "hotel = pd.read_csv('hotel.csv')\n",
        "\n",
        "X = hotel.copy()\n",
        "y = X.pop('is_canceled')"
      ],
      "metadata": {
        "id": "I8EwJyI0otwY"
      },
      "execution_count": 6,
      "outputs": []
    },
    {
      "cell_type": "code",
      "source": [
        "X.head()"
      ],
      "metadata": {
        "colab": {
          "base_uri": "https://localhost:8080/",
          "height": 386
        },
        "id": "Nti8ARQpxWEI",
        "outputId": "a8bf83f2-0f05-4a63-ab8a-6654f3641771"
      },
      "execution_count": 7,
      "outputs": [
        {
          "output_type": "execute_result",
          "data": {
            "text/plain": [
              "          hotel  lead_time  arrival_date_year arrival_date_month  \\\n",
              "0  Resort Hotel        342               2015               July   \n",
              "1  Resort Hotel        737               2015               July   \n",
              "2  Resort Hotel          7               2015               July   \n",
              "3  Resort Hotel         13               2015               July   \n",
              "4  Resort Hotel         14               2015               July   \n",
              "\n",
              "   arrival_date_week_number  arrival_date_day_of_month  \\\n",
              "0                        27                          1   \n",
              "1                        27                          1   \n",
              "2                        27                          1   \n",
              "3                        27                          1   \n",
              "4                        27                          1   \n",
              "\n",
              "   stays_in_weekend_nights  stays_in_week_nights  adults  children  ...  \\\n",
              "0                        0                     0       2       0.0  ...   \n",
              "1                        0                     0       2       0.0  ...   \n",
              "2                        0                     1       1       0.0  ...   \n",
              "3                        0                     1       1       0.0  ...   \n",
              "4                        0                     2       2       0.0  ...   \n",
              "\n",
              "   deposit_type  agent company days_in_waiting_list customer_type   adr  \\\n",
              "0    No Deposit    NaN     NaN                    0     Transient   0.0   \n",
              "1    No Deposit    NaN     NaN                    0     Transient   0.0   \n",
              "2    No Deposit    NaN     NaN                    0     Transient  75.0   \n",
              "3    No Deposit  304.0     NaN                    0     Transient  75.0   \n",
              "4    No Deposit  240.0     NaN                    0     Transient  98.0   \n",
              "\n",
              "   required_car_parking_spaces  total_of_special_requests reservation_status  \\\n",
              "0                            0                          0          Check-Out   \n",
              "1                            0                          0          Check-Out   \n",
              "2                            0                          0          Check-Out   \n",
              "3                            0                          0          Check-Out   \n",
              "4                            0                          1          Check-Out   \n",
              "\n",
              "  reservation_status_date  \n",
              "0              2015-07-01  \n",
              "1              2015-07-01  \n",
              "2              2015-07-02  \n",
              "3              2015-07-02  \n",
              "4              2015-07-03  \n",
              "\n",
              "[5 rows x 31 columns]"
            ],
            "text/html": [
              "\n",
              "  <div id=\"df-9749f958-6e44-442a-a39e-b2656547a25a\">\n",
              "    <div class=\"colab-df-container\">\n",
              "      <div>\n",
              "<style scoped>\n",
              "    .dataframe tbody tr th:only-of-type {\n",
              "        vertical-align: middle;\n",
              "    }\n",
              "\n",
              "    .dataframe tbody tr th {\n",
              "        vertical-align: top;\n",
              "    }\n",
              "\n",
              "    .dataframe thead th {\n",
              "        text-align: right;\n",
              "    }\n",
              "</style>\n",
              "<table border=\"1\" class=\"dataframe\">\n",
              "  <thead>\n",
              "    <tr style=\"text-align: right;\">\n",
              "      <th></th>\n",
              "      <th>hotel</th>\n",
              "      <th>lead_time</th>\n",
              "      <th>arrival_date_year</th>\n",
              "      <th>arrival_date_month</th>\n",
              "      <th>arrival_date_week_number</th>\n",
              "      <th>arrival_date_day_of_month</th>\n",
              "      <th>stays_in_weekend_nights</th>\n",
              "      <th>stays_in_week_nights</th>\n",
              "      <th>adults</th>\n",
              "      <th>children</th>\n",
              "      <th>...</th>\n",
              "      <th>deposit_type</th>\n",
              "      <th>agent</th>\n",
              "      <th>company</th>\n",
              "      <th>days_in_waiting_list</th>\n",
              "      <th>customer_type</th>\n",
              "      <th>adr</th>\n",
              "      <th>required_car_parking_spaces</th>\n",
              "      <th>total_of_special_requests</th>\n",
              "      <th>reservation_status</th>\n",
              "      <th>reservation_status_date</th>\n",
              "    </tr>\n",
              "  </thead>\n",
              "  <tbody>\n",
              "    <tr>\n",
              "      <th>0</th>\n",
              "      <td>Resort Hotel</td>\n",
              "      <td>342</td>\n",
              "      <td>2015</td>\n",
              "      <td>July</td>\n",
              "      <td>27</td>\n",
              "      <td>1</td>\n",
              "      <td>0</td>\n",
              "      <td>0</td>\n",
              "      <td>2</td>\n",
              "      <td>0.0</td>\n",
              "      <td>...</td>\n",
              "      <td>No Deposit</td>\n",
              "      <td>NaN</td>\n",
              "      <td>NaN</td>\n",
              "      <td>0</td>\n",
              "      <td>Transient</td>\n",
              "      <td>0.0</td>\n",
              "      <td>0</td>\n",
              "      <td>0</td>\n",
              "      <td>Check-Out</td>\n",
              "      <td>2015-07-01</td>\n",
              "    </tr>\n",
              "    <tr>\n",
              "      <th>1</th>\n",
              "      <td>Resort Hotel</td>\n",
              "      <td>737</td>\n",
              "      <td>2015</td>\n",
              "      <td>July</td>\n",
              "      <td>27</td>\n",
              "      <td>1</td>\n",
              "      <td>0</td>\n",
              "      <td>0</td>\n",
              "      <td>2</td>\n",
              "      <td>0.0</td>\n",
              "      <td>...</td>\n",
              "      <td>No Deposit</td>\n",
              "      <td>NaN</td>\n",
              "      <td>NaN</td>\n",
              "      <td>0</td>\n",
              "      <td>Transient</td>\n",
              "      <td>0.0</td>\n",
              "      <td>0</td>\n",
              "      <td>0</td>\n",
              "      <td>Check-Out</td>\n",
              "      <td>2015-07-01</td>\n",
              "    </tr>\n",
              "    <tr>\n",
              "      <th>2</th>\n",
              "      <td>Resort Hotel</td>\n",
              "      <td>7</td>\n",
              "      <td>2015</td>\n",
              "      <td>July</td>\n",
              "      <td>27</td>\n",
              "      <td>1</td>\n",
              "      <td>0</td>\n",
              "      <td>1</td>\n",
              "      <td>1</td>\n",
              "      <td>0.0</td>\n",
              "      <td>...</td>\n",
              "      <td>No Deposit</td>\n",
              "      <td>NaN</td>\n",
              "      <td>NaN</td>\n",
              "      <td>0</td>\n",
              "      <td>Transient</td>\n",
              "      <td>75.0</td>\n",
              "      <td>0</td>\n",
              "      <td>0</td>\n",
              "      <td>Check-Out</td>\n",
              "      <td>2015-07-02</td>\n",
              "    </tr>\n",
              "    <tr>\n",
              "      <th>3</th>\n",
              "      <td>Resort Hotel</td>\n",
              "      <td>13</td>\n",
              "      <td>2015</td>\n",
              "      <td>July</td>\n",
              "      <td>27</td>\n",
              "      <td>1</td>\n",
              "      <td>0</td>\n",
              "      <td>1</td>\n",
              "      <td>1</td>\n",
              "      <td>0.0</td>\n",
              "      <td>...</td>\n",
              "      <td>No Deposit</td>\n",
              "      <td>304.0</td>\n",
              "      <td>NaN</td>\n",
              "      <td>0</td>\n",
              "      <td>Transient</td>\n",
              "      <td>75.0</td>\n",
              "      <td>0</td>\n",
              "      <td>0</td>\n",
              "      <td>Check-Out</td>\n",
              "      <td>2015-07-02</td>\n",
              "    </tr>\n",
              "    <tr>\n",
              "      <th>4</th>\n",
              "      <td>Resort Hotel</td>\n",
              "      <td>14</td>\n",
              "      <td>2015</td>\n",
              "      <td>July</td>\n",
              "      <td>27</td>\n",
              "      <td>1</td>\n",
              "      <td>0</td>\n",
              "      <td>2</td>\n",
              "      <td>2</td>\n",
              "      <td>0.0</td>\n",
              "      <td>...</td>\n",
              "      <td>No Deposit</td>\n",
              "      <td>240.0</td>\n",
              "      <td>NaN</td>\n",
              "      <td>0</td>\n",
              "      <td>Transient</td>\n",
              "      <td>98.0</td>\n",
              "      <td>0</td>\n",
              "      <td>1</td>\n",
              "      <td>Check-Out</td>\n",
              "      <td>2015-07-03</td>\n",
              "    </tr>\n",
              "  </tbody>\n",
              "</table>\n",
              "<p>5 rows × 31 columns</p>\n",
              "</div>\n",
              "      <button class=\"colab-df-convert\" onclick=\"convertToInteractive('df-9749f958-6e44-442a-a39e-b2656547a25a')\"\n",
              "              title=\"Convert this dataframe to an interactive table.\"\n",
              "              style=\"display:none;\">\n",
              "        \n",
              "  <svg xmlns=\"http://www.w3.org/2000/svg\" height=\"24px\"viewBox=\"0 0 24 24\"\n",
              "       width=\"24px\">\n",
              "    <path d=\"M0 0h24v24H0V0z\" fill=\"none\"/>\n",
              "    <path d=\"M18.56 5.44l.94 2.06.94-2.06 2.06-.94-2.06-.94-.94-2.06-.94 2.06-2.06.94zm-11 1L8.5 8.5l.94-2.06 2.06-.94-2.06-.94L8.5 2.5l-.94 2.06-2.06.94zm10 10l.94 2.06.94-2.06 2.06-.94-2.06-.94-.94-2.06-.94 2.06-2.06.94z\"/><path d=\"M17.41 7.96l-1.37-1.37c-.4-.4-.92-.59-1.43-.59-.52 0-1.04.2-1.43.59L10.3 9.45l-7.72 7.72c-.78.78-.78 2.05 0 2.83L4 21.41c.39.39.9.59 1.41.59.51 0 1.02-.2 1.41-.59l7.78-7.78 2.81-2.81c.8-.78.8-2.07 0-2.86zM5.41 20L4 18.59l7.72-7.72 1.47 1.35L5.41 20z\"/>\n",
              "  </svg>\n",
              "      </button>\n",
              "      \n",
              "  <style>\n",
              "    .colab-df-container {\n",
              "      display:flex;\n",
              "      flex-wrap:wrap;\n",
              "      gap: 12px;\n",
              "    }\n",
              "\n",
              "    .colab-df-convert {\n",
              "      background-color: #E8F0FE;\n",
              "      border: none;\n",
              "      border-radius: 50%;\n",
              "      cursor: pointer;\n",
              "      display: none;\n",
              "      fill: #1967D2;\n",
              "      height: 32px;\n",
              "      padding: 0 0 0 0;\n",
              "      width: 32px;\n",
              "    }\n",
              "\n",
              "    .colab-df-convert:hover {\n",
              "      background-color: #E2EBFA;\n",
              "      box-shadow: 0px 1px 2px rgba(60, 64, 67, 0.3), 0px 1px 3px 1px rgba(60, 64, 67, 0.15);\n",
              "      fill: #174EA6;\n",
              "    }\n",
              "\n",
              "    [theme=dark] .colab-df-convert {\n",
              "      background-color: #3B4455;\n",
              "      fill: #D2E3FC;\n",
              "    }\n",
              "\n",
              "    [theme=dark] .colab-df-convert:hover {\n",
              "      background-color: #434B5C;\n",
              "      box-shadow: 0px 1px 3px 1px rgba(0, 0, 0, 0.15);\n",
              "      filter: drop-shadow(0px 1px 2px rgba(0, 0, 0, 0.3));\n",
              "      fill: #FFFFFF;\n",
              "    }\n",
              "  </style>\n",
              "\n",
              "      <script>\n",
              "        const buttonEl =\n",
              "          document.querySelector('#df-9749f958-6e44-442a-a39e-b2656547a25a button.colab-df-convert');\n",
              "        buttonEl.style.display =\n",
              "          google.colab.kernel.accessAllowed ? 'block' : 'none';\n",
              "\n",
              "        async function convertToInteractive(key) {\n",
              "          const element = document.querySelector('#df-9749f958-6e44-442a-a39e-b2656547a25a');\n",
              "          const dataTable =\n",
              "            await google.colab.kernel.invokeFunction('convertToInteractive',\n",
              "                                                     [key], {});\n",
              "          if (!dataTable) return;\n",
              "\n",
              "          const docLinkHtml = 'Like what you see? Visit the ' +\n",
              "            '<a target=\"_blank\" href=https://colab.research.google.com/notebooks/data_table.ipynb>data table notebook</a>'\n",
              "            + ' to learn more about interactive tables.';\n",
              "          element.innerHTML = '';\n",
              "          dataTable['output_type'] = 'display_data';\n",
              "          await google.colab.output.renderOutput(dataTable, element);\n",
              "          const docLink = document.createElement('div');\n",
              "          docLink.innerHTML = docLinkHtml;\n",
              "          element.appendChild(docLink);\n",
              "        }\n",
              "      </script>\n",
              "    </div>\n",
              "  </div>\n",
              "  "
            ]
          },
          "metadata": {},
          "execution_count": 7
        }
      ]
    },
    {
      "cell_type": "code",
      "source": [
        "X.shape"
      ],
      "metadata": {
        "colab": {
          "base_uri": "https://localhost:8080/"
        },
        "id": "tVv85vbqxZFU",
        "outputId": "9df614a0-39c9-4b3d-bce0-98431edf6253"
      },
      "execution_count": 8,
      "outputs": [
        {
          "output_type": "execute_result",
          "data": {
            "text/plain": [
              "(119390, 31)"
            ]
          },
          "metadata": {},
          "execution_count": 8
        }
      ]
    },
    {
      "cell_type": "code",
      "source": [
        "X.columns"
      ],
      "metadata": {
        "colab": {
          "base_uri": "https://localhost:8080/"
        },
        "id": "7GD9YbkxxbHh",
        "outputId": "e17ffb84-af1b-4880-ec92-65ad4dacefeb"
      },
      "execution_count": 9,
      "outputs": [
        {
          "output_type": "execute_result",
          "data": {
            "text/plain": [
              "Index(['hotel', 'lead_time', 'arrival_date_year', 'arrival_date_month',\n",
              "       'arrival_date_week_number', 'arrival_date_day_of_month',\n",
              "       'stays_in_weekend_nights', 'stays_in_week_nights', 'adults', 'children',\n",
              "       'babies', 'meal', 'country', 'market_segment', 'distribution_channel',\n",
              "       'is_repeated_guest', 'previous_cancellations',\n",
              "       'previous_bookings_not_canceled', 'reserved_room_type',\n",
              "       'assigned_room_type', 'booking_changes', 'deposit_type', 'agent',\n",
              "       'company', 'days_in_waiting_list', 'customer_type', 'adr',\n",
              "       'required_car_parking_spaces', 'total_of_special_requests',\n",
              "       'reservation_status', 'reservation_status_date'],\n",
              "      dtype='object')"
            ]
          },
          "metadata": {},
          "execution_count": 9
        }
      ]
    },
    {
      "cell_type": "code",
      "source": [
        "y.shape"
      ],
      "metadata": {
        "colab": {
          "base_uri": "https://localhost:8080/"
        },
        "id": "xmjSna1_xf8H",
        "outputId": "e244c843-707b-4f05-e4ff-6a3f688cf8c7"
      },
      "execution_count": 11,
      "outputs": [
        {
          "output_type": "execute_result",
          "data": {
            "text/plain": [
              "(119390,)"
            ]
          },
          "metadata": {},
          "execution_count": 11
        }
      ]
    },
    {
      "cell_type": "code",
      "source": [
        "y.head()"
      ],
      "metadata": {
        "colab": {
          "base_uri": "https://localhost:8080/"
        },
        "id": "mlE3j_zrxqIZ",
        "outputId": "d1a02fe3-7849-49ea-e7ba-a0f3a9f52608"
      },
      "execution_count": 12,
      "outputs": [
        {
          "output_type": "execute_result",
          "data": {
            "text/plain": [
              "0    0\n",
              "1    0\n",
              "2    0\n",
              "3    0\n",
              "4    0\n",
              "Name: is_canceled, dtype: int64"
            ]
          },
          "metadata": {},
          "execution_count": 12
        }
      ]
    },
    {
      "cell_type": "code",
      "source": [
        "X['arrival_date_month'] = X['arrival_date_month'].map({'January':1, 'February': 2, 'March':3,\n",
        "                                                       'April':4, 'May':5, 'June':6, 'July':7,\n",
        "                                                       'August':8, 'September':9, 'October':10,\n",
        "                                                       'November':11, 'December':12})"
      ],
      "metadata": {
        "id": "6vEfYFPexN7i"
      },
      "execution_count": 13,
      "outputs": []
    },
    {
      "cell_type": "code",
      "source": [
        "# X.info()"
      ],
      "metadata": {
        "colab": {
          "base_uri": "https://localhost:8080/"
        },
        "id": "89ymmXh9yY1Q",
        "outputId": "c21a4992-5830-410e-950d-29ade035ef81"
      },
      "execution_count": 15,
      "outputs": [
        {
          "output_type": "stream",
          "name": "stdout",
          "text": [
            "<class 'pandas.core.frame.DataFrame'>\n",
            "RangeIndex: 119390 entries, 0 to 119389\n",
            "Data columns (total 31 columns):\n",
            " #   Column                          Non-Null Count   Dtype  \n",
            "---  ------                          --------------   -----  \n",
            " 0   hotel                           119390 non-null  object \n",
            " 1   lead_time                       119390 non-null  int64  \n",
            " 2   arrival_date_year               119390 non-null  int64  \n",
            " 3   arrival_date_month              119390 non-null  int64  \n",
            " 4   arrival_date_week_number        119390 non-null  int64  \n",
            " 5   arrival_date_day_of_month       119390 non-null  int64  \n",
            " 6   stays_in_weekend_nights         119390 non-null  int64  \n",
            " 7   stays_in_week_nights            119390 non-null  int64  \n",
            " 8   adults                          119390 non-null  int64  \n",
            " 9   children                        119386 non-null  float64\n",
            " 10  babies                          119390 non-null  int64  \n",
            " 11  meal                            119390 non-null  object \n",
            " 12  country                         118902 non-null  object \n",
            " 13  market_segment                  119390 non-null  object \n",
            " 14  distribution_channel            119390 non-null  object \n",
            " 15  is_repeated_guest               119390 non-null  int64  \n",
            " 16  previous_cancellations          119390 non-null  int64  \n",
            " 17  previous_bookings_not_canceled  119390 non-null  int64  \n",
            " 18  reserved_room_type              119390 non-null  object \n",
            " 19  assigned_room_type              119390 non-null  object \n",
            " 20  booking_changes                 119390 non-null  int64  \n",
            " 21  deposit_type                    119390 non-null  object \n",
            " 22  agent                           103050 non-null  float64\n",
            " 23  company                         6797 non-null    float64\n",
            " 24  days_in_waiting_list            119390 non-null  int64  \n",
            " 25  customer_type                   119390 non-null  object \n",
            " 26  adr                             119390 non-null  float64\n",
            " 27  required_car_parking_spaces     119390 non-null  int64  \n",
            " 28  total_of_special_requests       119390 non-null  int64  \n",
            " 29  reservation_status              119390 non-null  object \n",
            " 30  reservation_status_date         119390 non-null  object \n",
            "dtypes: float64(4), int64(16), object(11)\n",
            "memory usage: 28.2+ MB\n"
          ]
        }
      ]
    },
    {
      "cell_type": "code",
      "source": [
        "features_num = [\n",
        "    \"lead_time\", \"arrival_date_week_number\",\n",
        "    \"arrival_date_day_of_month\", \"stays_in_weekend_nights\",\n",
        "    \"stays_in_week_nights\", \"adults\", \"children\", \"babies\",\n",
        "    \"is_repeated_guest\", \"previous_cancellations\",\n",
        "    \"previous_bookings_not_canceled\", \"required_car_parking_spaces\",\n",
        "    \"total_of_special_requests\", \"adr\",\n",
        "]"
      ],
      "metadata": {
        "id": "ouHpGr-Co-XS"
      },
      "execution_count": 16,
      "outputs": []
    },
    {
      "cell_type": "code",
      "source": [
        "features_cat = [\n",
        "    \"hotel\", \"arrival_date_month\", \"meal\",\n",
        "    \"market_segment\", \"distribution_channel\",\n",
        "    \"reserved_room_type\", \"deposit_type\", \"customer_type\",\n",
        "]"
      ],
      "metadata": {
        "id": "Bd8SH1UUx9Y9"
      },
      "execution_count": 17,
      "outputs": []
    },
    {
      "cell_type": "code",
      "source": [
        "transformer_num = make_pipeline(\n",
        "    SimpleImputer(strategy=\"constant\"), # there are a few missing values\n",
        "    StandardScaler(),\n",
        ")"
      ],
      "metadata": {
        "id": "YLs4NZmhywrG"
      },
      "execution_count": 19,
      "outputs": []
    },
    {
      "cell_type": "code",
      "source": [
        "transformer_cat = make_pipeline(\n",
        "    SimpleImputer(strategy=\"constant\", fill_value=\"NA\"),\n",
        "    OneHotEncoder(handle_unknown='ignore'),\n",
        ")"
      ],
      "metadata": {
        "id": "T00c3lTfzMWZ"
      },
      "execution_count": 20,
      "outputs": []
    },
    {
      "cell_type": "code",
      "source": [
        "preprocessor = make_column_transformer(\n",
        "    (transformer_num, features_num),\n",
        "    (transformer_cat, features_cat),\n",
        ")"
      ],
      "metadata": {
        "id": "DGgWQqFmzY7m"
      },
      "execution_count": 21,
      "outputs": []
    },
    {
      "cell_type": "code",
      "source": [
        "# stratify - make sure classes are evenlly represented across splits\n",
        "X_train, X_valid, y_train, y_valid = train_test_split(X, y, stratify=y, train_size=0.75)"
      ],
      "metadata": {
        "id": "JQUUMrTiz5M1"
      },
      "execution_count": 23,
      "outputs": []
    },
    {
      "cell_type": "code",
      "source": [
        "X_train = preprocessor.fit_transform(X_train)\n",
        "X_valid = preprocessor.transform(X_valid)"
      ],
      "metadata": {
        "id": "twqn0OG80Ir7"
      },
      "execution_count": 24,
      "outputs": []
    },
    {
      "cell_type": "code",
      "source": [
        "X_train.shape"
      ],
      "metadata": {
        "colab": {
          "base_uri": "https://localhost:8080/"
        },
        "id": "v79s35AL0R7H",
        "outputId": "a5c0b735-5207-468d-897e-4bb5424d5ab5"
      },
      "execution_count": 25,
      "outputs": [
        {
          "output_type": "execute_result",
          "data": {
            "text/plain": [
              "(89542, 63)"
            ]
          },
          "metadata": {},
          "execution_count": 25
        }
      ]
    },
    {
      "cell_type": "code",
      "source": [
        "y_train.shape"
      ],
      "metadata": {
        "colab": {
          "base_uri": "https://localhost:8080/"
        },
        "id": "iCBU62wc0UQ5",
        "outputId": "b1942d32-5395-45ff-bd43-a57166427e87"
      },
      "execution_count": 31,
      "outputs": [
        {
          "output_type": "execute_result",
          "data": {
            "text/plain": [
              "(89542,)"
            ]
          },
          "metadata": {},
          "execution_count": 31
        }
      ]
    },
    {
      "cell_type": "code",
      "source": [
        "input_shape = [X_train.shape[1]]"
      ],
      "metadata": {
        "id": "i4gG1PHv0Ni5"
      },
      "execution_count": 32,
      "outputs": []
    },
    {
      "cell_type": "markdown",
      "source": [
        "## II.. Modeling"
      ],
      "metadata": {
        "id": "y6RlaBF-11J1"
      }
    },
    {
      "cell_type": "code",
      "source": [
        "from tensorflow import keras\n",
        "from tensorflow.keras import layers"
      ],
      "metadata": {
        "id": "28YVwCrn0uZx"
      },
      "execution_count": 34,
      "outputs": []
    },
    {
      "cell_type": "code",
      "source": [
        "model = keras.Sequential([\n",
        "    layers.BatchNormalization(),\n",
        "    layers.Dense(256, activation='relu', input_shape=input_shape),\n",
        "    layers.BatchNormalization(),\n",
        "    layers.Dropout(0.3),\n",
        "    layers.Dense(256, activation='relu'),\n",
        "    layers.BatchNormalization(),\n",
        "    layers.Dropout(0.3),\n",
        "    layers.Dense(1, activation='sigmoid')\n",
        "])"
      ],
      "metadata": {
        "id": "_YntsJU37lBZ"
      },
      "execution_count": 35,
      "outputs": []
    },
    {
      "cell_type": "code",
      "source": [
        "model.compile(\n",
        "    optimizer='adam',\n",
        "    loss='binary_crossentropy',\n",
        "    metrics=['binary_accuracy'],\n",
        ")"
      ],
      "metadata": {
        "id": "lrJ5JUoX7vtQ"
      },
      "execution_count": 36,
      "outputs": []
    },
    {
      "cell_type": "code",
      "source": [
        "early_stopping = keras.callbacks.EarlyStopping(\n",
        "    patience=5, # how many epochs to wait before stopping\n",
        "    min_delta=0.001, # minimium amount of change to count as an improvement\n",
        "    restore_best_weights=True,\n",
        ")"
      ],
      "metadata": {
        "id": "i7rfym608FAJ"
      },
      "execution_count": 37,
      "outputs": []
    },
    {
      "cell_type": "code",
      "source": [
        "history = model.fit(\n",
        "    X_train, y_train,\n",
        "    validation_data=(X_valid, y_valid),\n",
        "    batch_size=512,\n",
        "    epochs=200,\n",
        "    callbacks=[early_stopping],\n",
        ")"
      ],
      "metadata": {
        "colab": {
          "base_uri": "https://localhost:8080/"
        },
        "id": "OFAvTpCn8HxS",
        "outputId": "0f77ea00-d1c4-465f-aa06-8d6ce41fbab6"
      },
      "execution_count": 38,
      "outputs": [
        {
          "output_type": "stream",
          "name": "stdout",
          "text": [
            "Epoch 1/200\n",
            "175/175 [==============================] - 5s 21ms/step - loss: 0.4822 - binary_accuracy: 0.7734 - val_loss: 0.4316 - val_binary_accuracy: 0.7939\n",
            "Epoch 2/200\n",
            "175/175 [==============================] - 3s 19ms/step - loss: 0.4233 - binary_accuracy: 0.8011 - val_loss: 0.4021 - val_binary_accuracy: 0.8132\n",
            "Epoch 3/200\n",
            "175/175 [==============================] - 3s 19ms/step - loss: 0.4102 - binary_accuracy: 0.8080 - val_loss: 0.3934 - val_binary_accuracy: 0.8178\n",
            "Epoch 4/200\n",
            "175/175 [==============================] - 3s 18ms/step - loss: 0.4033 - binary_accuracy: 0.8111 - val_loss: 0.3908 - val_binary_accuracy: 0.8204\n",
            "Epoch 5/200\n",
            "175/175 [==============================] - 3s 18ms/step - loss: 0.3973 - binary_accuracy: 0.8140 - val_loss: 0.3850 - val_binary_accuracy: 0.8235\n",
            "Epoch 6/200\n",
            "175/175 [==============================] - 3s 19ms/step - loss: 0.3923 - binary_accuracy: 0.8168 - val_loss: 0.3840 - val_binary_accuracy: 0.8193\n",
            "Epoch 7/200\n",
            "175/175 [==============================] - 3s 18ms/step - loss: 0.3880 - binary_accuracy: 0.8194 - val_loss: 0.3805 - val_binary_accuracy: 0.8256\n",
            "Epoch 8/200\n",
            "175/175 [==============================] - 3s 19ms/step - loss: 0.3856 - binary_accuracy: 0.8207 - val_loss: 0.3795 - val_binary_accuracy: 0.8259\n",
            "Epoch 9/200\n",
            "175/175 [==============================] - 3s 19ms/step - loss: 0.3811 - binary_accuracy: 0.8227 - val_loss: 0.3759 - val_binary_accuracy: 0.8284\n",
            "Epoch 10/200\n",
            "175/175 [==============================] - 3s 19ms/step - loss: 0.3790 - binary_accuracy: 0.8250 - val_loss: 0.3738 - val_binary_accuracy: 0.8288\n",
            "Epoch 11/200\n",
            "175/175 [==============================] - 3s 19ms/step - loss: 0.3765 - binary_accuracy: 0.8251 - val_loss: 0.3715 - val_binary_accuracy: 0.8304\n",
            "Epoch 12/200\n",
            "175/175 [==============================] - 3s 19ms/step - loss: 0.3740 - binary_accuracy: 0.8264 - val_loss: 0.3702 - val_binary_accuracy: 0.8302\n",
            "Epoch 13/200\n",
            "175/175 [==============================] - 3s 19ms/step - loss: 0.3710 - binary_accuracy: 0.8287 - val_loss: 0.3682 - val_binary_accuracy: 0.8318\n",
            "Epoch 14/200\n",
            "175/175 [==============================] - 3s 19ms/step - loss: 0.3691 - binary_accuracy: 0.8283 - val_loss: 0.3645 - val_binary_accuracy: 0.8355\n",
            "Epoch 15/200\n",
            "175/175 [==============================] - 3s 19ms/step - loss: 0.3677 - binary_accuracy: 0.8300 - val_loss: 0.3653 - val_binary_accuracy: 0.8338\n",
            "Epoch 16/200\n",
            "175/175 [==============================] - 3s 19ms/step - loss: 0.3662 - binary_accuracy: 0.8301 - val_loss: 0.3630 - val_binary_accuracy: 0.8332\n",
            "Epoch 17/200\n",
            "175/175 [==============================] - 3s 19ms/step - loss: 0.3644 - binary_accuracy: 0.8313 - val_loss: 0.3639 - val_binary_accuracy: 0.8347\n",
            "Epoch 18/200\n",
            "175/175 [==============================] - 3s 19ms/step - loss: 0.3632 - binary_accuracy: 0.8307 - val_loss: 0.3640 - val_binary_accuracy: 0.8343\n",
            "Epoch 19/200\n",
            "175/175 [==============================] - 3s 19ms/step - loss: 0.3603 - binary_accuracy: 0.8332 - val_loss: 0.3606 - val_binary_accuracy: 0.8356\n",
            "Epoch 20/200\n",
            "175/175 [==============================] - 3s 19ms/step - loss: 0.3603 - binary_accuracy: 0.8344 - val_loss: 0.3616 - val_binary_accuracy: 0.8350\n",
            "Epoch 21/200\n",
            "175/175 [==============================] - 3s 19ms/step - loss: 0.3591 - binary_accuracy: 0.8346 - val_loss: 0.3621 - val_binary_accuracy: 0.8337\n",
            "Epoch 22/200\n",
            "175/175 [==============================] - 3s 19ms/step - loss: 0.3564 - binary_accuracy: 0.8364 - val_loss: 0.3594 - val_binary_accuracy: 0.8369\n",
            "Epoch 23/200\n",
            "175/175 [==============================] - 3s 19ms/step - loss: 0.3565 - binary_accuracy: 0.8354 - val_loss: 0.3565 - val_binary_accuracy: 0.8362\n",
            "Epoch 24/200\n",
            "175/175 [==============================] - 3s 19ms/step - loss: 0.3534 - binary_accuracy: 0.8365 - val_loss: 0.3568 - val_binary_accuracy: 0.8373\n",
            "Epoch 25/200\n",
            "175/175 [==============================] - 3s 19ms/step - loss: 0.3540 - binary_accuracy: 0.8362 - val_loss: 0.3548 - val_binary_accuracy: 0.8391\n",
            "Epoch 26/200\n",
            "175/175 [==============================] - 3s 19ms/step - loss: 0.3526 - binary_accuracy: 0.8363 - val_loss: 0.3558 - val_binary_accuracy: 0.8373\n",
            "Epoch 27/200\n",
            "175/175 [==============================] - 3s 19ms/step - loss: 0.3526 - binary_accuracy: 0.8363 - val_loss: 0.3556 - val_binary_accuracy: 0.8388\n",
            "Epoch 28/200\n",
            "175/175 [==============================] - 3s 19ms/step - loss: 0.3507 - binary_accuracy: 0.8369 - val_loss: 0.3571 - val_binary_accuracy: 0.8375\n",
            "Epoch 29/200\n",
            "175/175 [==============================] - 3s 18ms/step - loss: 0.3498 - binary_accuracy: 0.8367 - val_loss: 0.3560 - val_binary_accuracy: 0.8379\n",
            "Epoch 30/200\n",
            "175/175 [==============================] - 3s 19ms/step - loss: 0.3477 - binary_accuracy: 0.8384 - val_loss: 0.3539 - val_binary_accuracy: 0.8370\n"
          ]
        }
      ]
    },
    {
      "cell_type": "code",
      "source": [
        "history_df = pd.DataFrame(history.history)"
      ],
      "metadata": {
        "id": "9ElREkVI8RNc"
      },
      "execution_count": 39,
      "outputs": []
    },
    {
      "cell_type": "code",
      "source": [
        "history_df.head()"
      ],
      "metadata": {
        "colab": {
          "base_uri": "https://localhost:8080/",
          "height": 206
        },
        "id": "RWRRYfcg9HCH",
        "outputId": "962a4ad7-1756-453a-a8d5-313d834a8b87"
      },
      "execution_count": 40,
      "outputs": [
        {
          "output_type": "execute_result",
          "data": {
            "text/plain": [
              "       loss  binary_accuracy  val_loss  val_binary_accuracy\n",
              "0  0.482197         0.773402  0.431607             0.793856\n",
              "1  0.423314         0.801144  0.402097             0.813220\n",
              "2  0.410155         0.808001  0.393362             0.817810\n",
              "3  0.403338         0.811083  0.390769             0.820390\n",
              "4  0.397340         0.814020  0.384971             0.823472"
            ],
            "text/html": [
              "\n",
              "  <div id=\"df-57fac440-5db9-4884-8db5-bc61c60c19aa\">\n",
              "    <div class=\"colab-df-container\">\n",
              "      <div>\n",
              "<style scoped>\n",
              "    .dataframe tbody tr th:only-of-type {\n",
              "        vertical-align: middle;\n",
              "    }\n",
              "\n",
              "    .dataframe tbody tr th {\n",
              "        vertical-align: top;\n",
              "    }\n",
              "\n",
              "    .dataframe thead th {\n",
              "        text-align: right;\n",
              "    }\n",
              "</style>\n",
              "<table border=\"1\" class=\"dataframe\">\n",
              "  <thead>\n",
              "    <tr style=\"text-align: right;\">\n",
              "      <th></th>\n",
              "      <th>loss</th>\n",
              "      <th>binary_accuracy</th>\n",
              "      <th>val_loss</th>\n",
              "      <th>val_binary_accuracy</th>\n",
              "    </tr>\n",
              "  </thead>\n",
              "  <tbody>\n",
              "    <tr>\n",
              "      <th>0</th>\n",
              "      <td>0.482197</td>\n",
              "      <td>0.773402</td>\n",
              "      <td>0.431607</td>\n",
              "      <td>0.793856</td>\n",
              "    </tr>\n",
              "    <tr>\n",
              "      <th>1</th>\n",
              "      <td>0.423314</td>\n",
              "      <td>0.801144</td>\n",
              "      <td>0.402097</td>\n",
              "      <td>0.813220</td>\n",
              "    </tr>\n",
              "    <tr>\n",
              "      <th>2</th>\n",
              "      <td>0.410155</td>\n",
              "      <td>0.808001</td>\n",
              "      <td>0.393362</td>\n",
              "      <td>0.817810</td>\n",
              "    </tr>\n",
              "    <tr>\n",
              "      <th>3</th>\n",
              "      <td>0.403338</td>\n",
              "      <td>0.811083</td>\n",
              "      <td>0.390769</td>\n",
              "      <td>0.820390</td>\n",
              "    </tr>\n",
              "    <tr>\n",
              "      <th>4</th>\n",
              "      <td>0.397340</td>\n",
              "      <td>0.814020</td>\n",
              "      <td>0.384971</td>\n",
              "      <td>0.823472</td>\n",
              "    </tr>\n",
              "  </tbody>\n",
              "</table>\n",
              "</div>\n",
              "      <button class=\"colab-df-convert\" onclick=\"convertToInteractive('df-57fac440-5db9-4884-8db5-bc61c60c19aa')\"\n",
              "              title=\"Convert this dataframe to an interactive table.\"\n",
              "              style=\"display:none;\">\n",
              "        \n",
              "  <svg xmlns=\"http://www.w3.org/2000/svg\" height=\"24px\"viewBox=\"0 0 24 24\"\n",
              "       width=\"24px\">\n",
              "    <path d=\"M0 0h24v24H0V0z\" fill=\"none\"/>\n",
              "    <path d=\"M18.56 5.44l.94 2.06.94-2.06 2.06-.94-2.06-.94-.94-2.06-.94 2.06-2.06.94zm-11 1L8.5 8.5l.94-2.06 2.06-.94-2.06-.94L8.5 2.5l-.94 2.06-2.06.94zm10 10l.94 2.06.94-2.06 2.06-.94-2.06-.94-.94-2.06-.94 2.06-2.06.94z\"/><path d=\"M17.41 7.96l-1.37-1.37c-.4-.4-.92-.59-1.43-.59-.52 0-1.04.2-1.43.59L10.3 9.45l-7.72 7.72c-.78.78-.78 2.05 0 2.83L4 21.41c.39.39.9.59 1.41.59.51 0 1.02-.2 1.41-.59l7.78-7.78 2.81-2.81c.8-.78.8-2.07 0-2.86zM5.41 20L4 18.59l7.72-7.72 1.47 1.35L5.41 20z\"/>\n",
              "  </svg>\n",
              "      </button>\n",
              "      \n",
              "  <style>\n",
              "    .colab-df-container {\n",
              "      display:flex;\n",
              "      flex-wrap:wrap;\n",
              "      gap: 12px;\n",
              "    }\n",
              "\n",
              "    .colab-df-convert {\n",
              "      background-color: #E8F0FE;\n",
              "      border: none;\n",
              "      border-radius: 50%;\n",
              "      cursor: pointer;\n",
              "      display: none;\n",
              "      fill: #1967D2;\n",
              "      height: 32px;\n",
              "      padding: 0 0 0 0;\n",
              "      width: 32px;\n",
              "    }\n",
              "\n",
              "    .colab-df-convert:hover {\n",
              "      background-color: #E2EBFA;\n",
              "      box-shadow: 0px 1px 2px rgba(60, 64, 67, 0.3), 0px 1px 3px 1px rgba(60, 64, 67, 0.15);\n",
              "      fill: #174EA6;\n",
              "    }\n",
              "\n",
              "    [theme=dark] .colab-df-convert {\n",
              "      background-color: #3B4455;\n",
              "      fill: #D2E3FC;\n",
              "    }\n",
              "\n",
              "    [theme=dark] .colab-df-convert:hover {\n",
              "      background-color: #434B5C;\n",
              "      box-shadow: 0px 1px 3px 1px rgba(0, 0, 0, 0.15);\n",
              "      filter: drop-shadow(0px 1px 2px rgba(0, 0, 0, 0.3));\n",
              "      fill: #FFFFFF;\n",
              "    }\n",
              "  </style>\n",
              "\n",
              "      <script>\n",
              "        const buttonEl =\n",
              "          document.querySelector('#df-57fac440-5db9-4884-8db5-bc61c60c19aa button.colab-df-convert');\n",
              "        buttonEl.style.display =\n",
              "          google.colab.kernel.accessAllowed ? 'block' : 'none';\n",
              "\n",
              "        async function convertToInteractive(key) {\n",
              "          const element = document.querySelector('#df-57fac440-5db9-4884-8db5-bc61c60c19aa');\n",
              "          const dataTable =\n",
              "            await google.colab.kernel.invokeFunction('convertToInteractive',\n",
              "                                                     [key], {});\n",
              "          if (!dataTable) return;\n",
              "\n",
              "          const docLinkHtml = 'Like what you see? Visit the ' +\n",
              "            '<a target=\"_blank\" href=https://colab.research.google.com/notebooks/data_table.ipynb>data table notebook</a>'\n",
              "            + ' to learn more about interactive tables.';\n",
              "          element.innerHTML = '';\n",
              "          dataTable['output_type'] = 'display_data';\n",
              "          await google.colab.output.renderOutput(dataTable, element);\n",
              "          const docLink = document.createElement('div');\n",
              "          docLink.innerHTML = docLinkHtml;\n",
              "          element.appendChild(docLink);\n",
              "        }\n",
              "      </script>\n",
              "    </div>\n",
              "  </div>\n",
              "  "
            ]
          },
          "metadata": {},
          "execution_count": 40
        }
      ]
    },
    {
      "cell_type": "code",
      "source": [
        "history_df.loc[:, ['loss', 'val_loss']].plot(title=\"Cross-entropy\")\n",
        "history_df.loc[:, ['binary_accuracy', 'val_binary_accuracy']].plot(title=\"Accuracy\")"
      ],
      "metadata": {
        "colab": {
          "base_uri": "https://localhost:8080/",
          "height": 595
        },
        "id": "hgMIbaku9IRi",
        "outputId": "598cb8f4-62a6-433b-cc4a-bbb22527ba96"
      },
      "execution_count": 41,
      "outputs": [
        {
          "output_type": "execute_result",
          "data": {
            "text/plain": [
              "<matplotlib.axes._subplots.AxesSubplot at 0x7fed6dde3410>"
            ]
          },
          "metadata": {},
          "execution_count": 41
        },
        {
          "output_type": "display_data",
          "data": {
            "text/plain": [
              "<Figure size 432x288 with 1 Axes>"
            ],
            "image/png": "[encoded data removed]"
          },
          "metadata": {}
        },
        {
          "output_type": "display_data",
          "data": {
            "text/plain": [
              "<Figure size 432x288 with 1 Axes>"
            ],
            "image/png": "[encoded data removed]"
          },
          "metadata": {}
        }
      ]
    },
    {
      "cell_type": "code",
      "source": [
        ""
      ],
      "metadata": {
        "id": "JMCsFHGF9UgR"
      },
      "execution_count": null,
      "outputs": []
    }
  ]
}