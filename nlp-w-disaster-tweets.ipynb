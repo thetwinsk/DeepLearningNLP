{
 "cells": [
  {
   "cell_type": "code",
   "execution_count": null,
   "id": "d5411302",
   "metadata": {
    "papermill": {
     "duration": 0.011015,
     "end_time": "2022-09-22T08:16:05.273208",
     "exception": false,
     "start_time": "2022-09-22T08:16:05.262193",
     "status": "completed"
    },
    "tags": []
   },
   "outputs": [],
   "source": []
  },
  {
   "cell_type": "code",
   "execution_count": 1,
   "id": "87d3f7c9",
   "metadata": {
    "_cell_guid": "b1076dfc-b9ad-4769-8c92-a6c4dae69d19",
    "_uuid": "8f2839f25d086af736a60e9eeb907d3b93b6e0e5",
    "execution": {
     "iopub.execute_input": "2022-09-22T08:16:05.294621Z",
     "iopub.status.busy": "2022-09-22T08:16:05.294160Z",
     "iopub.status.idle": "2022-09-22T08:16:05.307145Z",
     "shell.execute_reply": "2022-09-22T08:16:05.305979Z"
    },
    "papermill": {
     "duration": 0.026728,
     "end_time": "2022-09-22T08:16:05.309590",
     "exception": false,
     "start_time": "2022-09-22T08:16:05.282862",
     "status": "completed"
    },
    "tags": []
   },
   "outputs": [
    {
     "name": "stdout",
     "output_type": "stream",
     "text": [
      "/kaggle/input/nlp-getting-started/sample_submission.csv\n",
      "/kaggle/input/nlp-getting-started/train.csv\n",
      "/kaggle/input/nlp-getting-started/test.csv\n"
     ]
    }
   ],
   "source": [
    "# This Python 3 environment comes with many helpful analytics libraries installed\n",
    "# It is defined by the kaggle/python Docker image: https://github.com/kaggle/docker-python\n",
    "# For example, here's several helpful packages to load\n",
    "\n",
    "import numpy as np # linear algebra\n",
    "import pandas as pd # data processing, CSV file I/O (e.g. pd.read_csv)\n",
    "\n",
    "# Input data files are available in the read-only \"../input/\" directory\n",
    "# For example, running this (by clicking run or pressing Shift+Enter) will list all files under the input directory\n",
    "\n",
    "import os\n",
    "for dirname, _, filenames in os.walk('/kaggle/input'):\n",
    "    for filename in filenames:\n",
    "        print(os.path.join(dirname, filename))\n",
    "\n",
    "# You can write up to 20GB to the current directory (/kaggle/working/) that gets preserved as output when you create a version using \"Save & Run All\" \n",
    "# You can also write temporary files to /kaggle/temp/, but they won't be saved outside of the current session"
   ]
  },
  {
   "cell_type": "code",
   "execution_count": 2,
   "id": "11d9e6a3",
   "metadata": {
    "execution": {
     "iopub.execute_input": "2022-09-22T08:16:05.330908Z",
     "iopub.status.busy": "2022-09-22T08:16:05.330543Z",
     "iopub.status.idle": "2022-09-22T08:16:10.456828Z",
     "shell.execute_reply": "2022-09-22T08:16:10.455894Z"
    },
    "papermill": {
     "duration": 5.139815,
     "end_time": "2022-09-22T08:16:10.459372",
     "exception": false,
     "start_time": "2022-09-22T08:16:05.319557",
     "status": "completed"
    },
    "tags": []
   },
   "outputs": [],
   "source": [
    "import tensorflow as tf\n",
    "from tensorflow import keras\n",
    "import os\n",
    "import matplotlib.pyplot as plt\n",
    "import time"
   ]
  },
  {
   "cell_type": "code",
   "execution_count": 3,
   "id": "515b5ffd",
   "metadata": {
    "execution": {
     "iopub.execute_input": "2022-09-22T08:16:10.483176Z",
     "iopub.status.busy": "2022-09-22T08:16:10.482048Z",
     "iopub.status.idle": "2022-09-22T08:16:10.539145Z",
     "shell.execute_reply": "2022-09-22T08:16:10.538154Z"
    },
    "papermill": {
     "duration": 0.070703,
     "end_time": "2022-09-22T08:16:10.541488",
     "exception": false,
     "start_time": "2022-09-22T08:16:10.470785",
     "status": "completed"
    },
    "tags": []
   },
   "outputs": [
    {
     "data": {
      "text/plain": [
       "(7613, 5)"
      ]
     },
     "execution_count": 3,
     "metadata": {},
     "output_type": "execute_result"
    }
   ],
   "source": [
    "df = pd.read_csv('/kaggle/input/nlp-getting-started/train.csv')\n",
    "df.shape"
   ]
  },
  {
   "cell_type": "code",
   "execution_count": 4,
   "id": "f1225c64",
   "metadata": {
    "execution": {
     "iopub.execute_input": "2022-09-22T08:16:10.562876Z",
     "iopub.status.busy": "2022-09-22T08:16:10.562475Z",
     "iopub.status.idle": "2022-09-22T08:16:10.580820Z",
     "shell.execute_reply": "2022-09-22T08:16:10.579795Z"
    },
    "papermill": {
     "duration": 0.031561,
     "end_time": "2022-09-22T08:16:10.583066",
     "exception": false,
     "start_time": "2022-09-22T08:16:10.551505",
     "status": "completed"
    },
    "tags": []
   },
   "outputs": [
    {
     "data": {
      "text/html": [
       "<div>\n",
       "<style scoped>\n",
       "    .dataframe tbody tr th:only-of-type {\n",
       "        vertical-align: middle;\n",
       "    }\n",
       "\n",
       "    .dataframe tbody tr th {\n",
       "        vertical-align: top;\n",
       "    }\n",
       "\n",
       "    .dataframe thead th {\n",
       "        text-align: right;\n",
       "    }\n",
       "</style>\n",
       "<table border=\"1\" class=\"dataframe\">\n",
       "  <thead>\n",
       "    <tr style=\"text-align: right;\">\n",
       "      <th></th>\n",
       "      <th>id</th>\n",
       "      <th>keyword</th>\n",
       "      <th>location</th>\n",
       "      <th>text</th>\n",
       "      <th>target</th>\n",
       "    </tr>\n",
       "  </thead>\n",
       "  <tbody>\n",
       "    <tr>\n",
       "      <th>0</th>\n",
       "      <td>1</td>\n",
       "      <td>NaN</td>\n",
       "      <td>NaN</td>\n",
       "      <td>Our Deeds are the Reason of this #earthquake M...</td>\n",
       "      <td>1</td>\n",
       "    </tr>\n",
       "    <tr>\n",
       "      <th>1</th>\n",
       "      <td>4</td>\n",
       "      <td>NaN</td>\n",
       "      <td>NaN</td>\n",
       "      <td>Forest fire near La Ronge Sask. Canada</td>\n",
       "      <td>1</td>\n",
       "    </tr>\n",
       "    <tr>\n",
       "      <th>2</th>\n",
       "      <td>5</td>\n",
       "      <td>NaN</td>\n",
       "      <td>NaN</td>\n",
       "      <td>All residents asked to 'shelter in place' are ...</td>\n",
       "      <td>1</td>\n",
       "    </tr>\n",
       "    <tr>\n",
       "      <th>3</th>\n",
       "      <td>6</td>\n",
       "      <td>NaN</td>\n",
       "      <td>NaN</td>\n",
       "      <td>13,000 people receive #wildfires evacuation or...</td>\n",
       "      <td>1</td>\n",
       "    </tr>\n",
       "    <tr>\n",
       "      <th>4</th>\n",
       "      <td>7</td>\n",
       "      <td>NaN</td>\n",
       "      <td>NaN</td>\n",
       "      <td>Just got sent this photo from Ruby #Alaska as ...</td>\n",
       "      <td>1</td>\n",
       "    </tr>\n",
       "  </tbody>\n",
       "</table>\n",
       "</div>"
      ],
      "text/plain": [
       "   id keyword location                                               text  \\\n",
       "0   1     NaN      NaN  Our Deeds are the Reason of this #earthquake M...   \n",
       "1   4     NaN      NaN             Forest fire near La Ronge Sask. Canada   \n",
       "2   5     NaN      NaN  All residents asked to 'shelter in place' are ...   \n",
       "3   6     NaN      NaN  13,000 people receive #wildfires evacuation or...   \n",
       "4   7     NaN      NaN  Just got sent this photo from Ruby #Alaska as ...   \n",
       "\n",
       "   target  \n",
       "0       1  \n",
       "1       1  \n",
       "2       1  \n",
       "3       1  \n",
       "4       1  "
      ]
     },
     "execution_count": 4,
     "metadata": {},
     "output_type": "execute_result"
    }
   ],
   "source": [
    "df.head()"
   ]
  },
  {
   "cell_type": "code",
   "execution_count": 5,
   "id": "5529d654",
   "metadata": {
    "execution": {
     "iopub.execute_input": "2022-09-22T08:16:10.605408Z",
     "iopub.status.busy": "2022-09-22T08:16:10.604771Z",
     "iopub.status.idle": "2022-09-22T08:16:10.614817Z",
     "shell.execute_reply": "2022-09-22T08:16:10.613596Z"
    },
    "papermill": {
     "duration": 0.023863,
     "end_time": "2022-09-22T08:16:10.617131",
     "exception": false,
     "start_time": "2022-09-22T08:16:10.593268",
     "status": "completed"
    },
    "tags": []
   },
   "outputs": [
    {
     "name": "stdout",
     "output_type": "stream",
     "text": [
      "3271\n",
      "4342\n"
     ]
    }
   ],
   "source": [
    "print((df.target==1).sum()) #Disaster\n",
    "print((df.target==0).sum()) #No Disaster"
   ]
  },
  {
   "cell_type": "code",
   "execution_count": 6,
   "id": "5310dab9",
   "metadata": {
    "execution": {
     "iopub.execute_input": "2022-09-22T08:16:10.639063Z",
     "iopub.status.busy": "2022-09-22T08:16:10.638399Z",
     "iopub.status.idle": "2022-09-22T08:16:10.642162Z",
     "shell.execute_reply": "2022-09-22T08:16:10.641484Z"
    },
    "papermill": {
     "duration": 0.016743,
     "end_time": "2022-09-22T08:16:10.643963",
     "exception": false,
     "start_time": "2022-09-22T08:16:10.627220",
     "status": "completed"
    },
    "tags": []
   },
   "outputs": [],
   "source": [
    "#Preprocessing\n",
    "import re \n",
    "import string"
   ]
  },
  {
   "cell_type": "code",
   "execution_count": 7,
   "id": "4b013f72",
   "metadata": {
    "execution": {
     "iopub.execute_input": "2022-09-22T08:16:10.665900Z",
     "iopub.status.busy": "2022-09-22T08:16:10.665269Z",
     "iopub.status.idle": "2022-09-22T08:16:10.669584Z",
     "shell.execute_reply": "2022-09-22T08:16:10.668792Z"
    },
    "papermill": {
     "duration": 0.01764,
     "end_time": "2022-09-22T08:16:10.671734",
     "exception": false,
     "start_time": "2022-09-22T08:16:10.654094",
     "status": "completed"
    },
    "tags": []
   },
   "outputs": [],
   "source": [
    "def remove_URL(text):\n",
    "    url = re.compile(r\"https?://\\S+|www\\.\\S+\")\n",
    "    return url.sub(r\"\", text)"
   ]
  },
  {
   "cell_type": "code",
   "execution_count": 8,
   "id": "45364279",
   "metadata": {
    "execution": {
     "iopub.execute_input": "2022-09-22T08:16:10.693295Z",
     "iopub.status.busy": "2022-09-22T08:16:10.692929Z",
     "iopub.status.idle": "2022-09-22T08:16:10.698029Z",
     "shell.execute_reply": "2022-09-22T08:16:10.696894Z"
    },
    "papermill": {
     "duration": 0.018211,
     "end_time": "2022-09-22T08:16:10.700014",
     "exception": false,
     "start_time": "2022-09-22T08:16:10.681803",
     "status": "completed"
    },
    "tags": []
   },
   "outputs": [],
   "source": [
    "def remove_punct(text):\n",
    "    translator = str.maketrans(\"\", \"\", string.punctuation)\n",
    "    return text.translate(translator)"
   ]
  },
  {
   "cell_type": "code",
   "execution_count": 9,
   "id": "3ceb078f",
   "metadata": {
    "execution": {
     "iopub.execute_input": "2022-09-22T08:16:10.721664Z",
     "iopub.status.busy": "2022-09-22T08:16:10.720975Z",
     "iopub.status.idle": "2022-09-22T08:16:10.727362Z",
     "shell.execute_reply": "2022-09-22T08:16:10.726525Z"
    },
    "papermill": {
     "duration": 0.019685,
     "end_time": "2022-09-22T08:16:10.729632",
     "exception": false,
     "start_time": "2022-09-22T08:16:10.709947",
     "status": "completed"
    },
    "tags": []
   },
   "outputs": [
    {
     "data": {
      "text/plain": [
       "'!\"#$%&\\'()*+,-./:;<=>?@[\\\\]^_`{|}~'"
      ]
     },
     "execution_count": 9,
     "metadata": {},
     "output_type": "execute_result"
    }
   ],
   "source": [
    "string.punctuation"
   ]
  },
  {
   "cell_type": "code",
   "execution_count": 10,
   "id": "adc3896c",
   "metadata": {
    "execution": {
     "iopub.execute_input": "2022-09-22T08:16:10.751639Z",
     "iopub.status.busy": "2022-09-22T08:16:10.751270Z",
     "iopub.status.idle": "2022-09-22T08:16:10.757432Z",
     "shell.execute_reply": "2022-09-22T08:16:10.756745Z"
    },
    "papermill": {
     "duration": 0.020914,
     "end_time": "2022-09-22T08:16:10.760698",
     "exception": false,
     "start_time": "2022-09-22T08:16:10.739784",
     "status": "completed"
    },
    "tags": []
   },
   "outputs": [
    {
     "name": "stdout",
     "output_type": "stream",
     "text": [
      "@bbcmtd Wholesale Markets ablaze http://t.co/lHYXEOHY6C\n",
      "http://t.co/lHYXEOHY6C\n",
      "@bbcmtd Wholesale Markets ablaze \n"
     ]
    }
   ],
   "source": [
    "pattern = re.compile(r\"https?://\\S+|www\\.\\S+\")\n",
    "for t in df.text:\n",
    "    matches = pattern.findall(t)\n",
    "    for match in matches:\n",
    "        print(t)\n",
    "        print(match)\n",
    "        print(pattern.sub(r\"\", t))\n",
    "    if len(matches) > 0:\n",
    "        break"
   ]
  },
  {
   "cell_type": "code",
   "execution_count": 11,
   "id": "92ad5854",
   "metadata": {
    "execution": {
     "iopub.execute_input": "2022-09-22T08:16:10.784421Z",
     "iopub.status.busy": "2022-09-22T08:16:10.783337Z",
     "iopub.status.idle": "2022-09-22T08:16:10.848925Z",
     "shell.execute_reply": "2022-09-22T08:16:10.848121Z"
    },
    "papermill": {
     "duration": 0.079391,
     "end_time": "2022-09-22T08:16:10.851348",
     "exception": false,
     "start_time": "2022-09-22T08:16:10.771957",
     "status": "completed"
    },
    "tags": []
   },
   "outputs": [],
   "source": [
    "df[\"text\"] = df.text.map(remove_URL) #map(lambda x: remove_URL(x))\n",
    "df[\"text\"] = df.text.map(remove_punct)"
   ]
  },
  {
   "cell_type": "code",
   "execution_count": 12,
   "id": "0c74c570",
   "metadata": {
    "execution": {
     "iopub.execute_input": "2022-09-22T08:16:10.873557Z",
     "iopub.status.busy": "2022-09-22T08:16:10.872581Z",
     "iopub.status.idle": "2022-09-22T08:16:10.876511Z",
     "shell.execute_reply": "2022-09-22T08:16:10.875816Z"
    },
    "papermill": {
     "duration": 0.016953,
     "end_time": "2022-09-22T08:16:10.878501",
     "exception": false,
     "start_time": "2022-09-22T08:16:10.861548",
     "status": "completed"
    },
    "tags": []
   },
   "outputs": [],
   "source": [
    "#remove stopwords"
   ]
  },
  {
   "cell_type": "code",
   "execution_count": 13,
   "id": "6c9e45f8",
   "metadata": {
    "execution": {
     "iopub.execute_input": "2022-09-22T08:16:10.900400Z",
     "iopub.status.busy": "2022-09-22T08:16:10.900026Z",
     "iopub.status.idle": "2022-09-22T08:16:12.403927Z",
     "shell.execute_reply": "2022-09-22T08:16:12.402991Z"
    },
    "papermill": {
     "duration": 1.51777,
     "end_time": "2022-09-22T08:16:12.406386",
     "exception": false,
     "start_time": "2022-09-22T08:16:10.888616",
     "status": "completed"
    },
    "tags": []
   },
   "outputs": [
    {
     "name": "stderr",
     "output_type": "stream",
     "text": [
      "[nltk_data] Downloading package stopwords to /usr/share/nltk_data...\n",
      "[nltk_data]   Package stopwords is already up-to-date!\n"
     ]
    }
   ],
   "source": [
    "import nltk\n",
    "nltk.download('stopwords')\n",
    "from nltk.corpus import stopwords"
   ]
  },
  {
   "cell_type": "code",
   "execution_count": 14,
   "id": "4704bbcd",
   "metadata": {
    "execution": {
     "iopub.execute_input": "2022-09-22T08:16:12.428199Z",
     "iopub.status.busy": "2022-09-22T08:16:12.427586Z",
     "iopub.status.idle": "2022-09-22T08:16:12.434360Z",
     "shell.execute_reply": "2022-09-22T08:16:12.433589Z"
    },
    "papermill": {
     "duration": 0.019832,
     "end_time": "2022-09-22T08:16:12.436473",
     "exception": false,
     "start_time": "2022-09-22T08:16:12.416641",
     "status": "completed"
    },
    "tags": []
   },
   "outputs": [],
   "source": [
    "stop = set(stopwords.words('english'))"
   ]
  },
  {
   "cell_type": "code",
   "execution_count": 15,
   "id": "751ea9f0",
   "metadata": {
    "execution": {
     "iopub.execute_input": "2022-09-22T08:16:12.458649Z",
     "iopub.status.busy": "2022-09-22T08:16:12.458315Z",
     "iopub.status.idle": "2022-09-22T08:16:12.463228Z",
     "shell.execute_reply": "2022-09-22T08:16:12.462301Z"
    },
    "papermill": {
     "duration": 0.018374,
     "end_time": "2022-09-22T08:16:12.465152",
     "exception": false,
     "start_time": "2022-09-22T08:16:12.446778",
     "status": "completed"
    },
    "tags": []
   },
   "outputs": [],
   "source": [
    "def remove_stopwords(text):\n",
    "    filtered_words = [word.lower() for word in text.split() if word.lower() not in stop]\n",
    "    return ' '.join(filtered_words)"
   ]
  },
  {
   "cell_type": "code",
   "execution_count": 16,
   "id": "74a2c415",
   "metadata": {
    "execution": {
     "iopub.execute_input": "2022-09-22T08:16:12.486880Z",
     "iopub.status.busy": "2022-09-22T08:16:12.486430Z",
     "iopub.status.idle": "2022-09-22T08:16:12.492276Z",
     "shell.execute_reply": "2022-09-22T08:16:12.491011Z"
    },
    "papermill": {
     "duration": 0.019267,
     "end_time": "2022-09-22T08:16:12.494382",
     "exception": false,
     "start_time": "2022-09-22T08:16:12.475115",
     "status": "completed"
    },
    "tags": []
   },
   "outputs": [
    {
     "name": "stdout",
     "output_type": "stream",
     "text": [
      "{'before', 'you', 'being', 'are', 'ma', 'below', 'out', 'both', 'our', 'and', 'each', 're', 'these', \"don't\", 'under', 'is', 'be', 'll', 'because', 'its', 'again', 'does', 'of', 'there', 'more', 'now', \"aren't\", 'she', 'they', 'all', 'yours', 'hers', 'few', \"doesn't\", \"hadn't\", 'will', 'i', 'hasn', \"haven't\", 'at', \"she's\", 'it', 'ourselves', 'were', 'over', 'then', \"isn't\", 'he', 'from', 'can', 'aren', 'ain', \"you've\", 'mightn', 'didn', 'about', 'here', 'in', 'don', 'me', 'doing', 'o', 'was', 'once', 'just', 'wasn', 'some', 'having', 'y', 'hadn', 'wouldn', \"hasn't\", \"needn't\", 'after', 'for', 'between', 'on', 'doesn', \"wasn't\", 've', 'been', 'her', 'couldn', \"mightn't\", 'him', 'theirs', 'than', 'against', 'up', \"didn't\", 'those', 'should', 'too', 'have', 'during', \"wouldn't\", 'myself', 'so', 'or', 'above', 'with', 'did', 'but', 'as', \"that'll\", \"couldn't\", 'that', 'why', 'only', \"mustn't\", 't', 'most', \"weren't\", 'himself', 'do', 'until', 'this', 'them', 'how', 'not', 'shouldn', 'ours', 'your', 'same', 'd', 'down', 'his', 'to', 'if', \"shan't\", 'where', 'into', \"you're\", 'themselves', 'yourself', 'isn', 'through', 'a', 'whom', \"you'd\", 'while', 'an', 'the', 'by', 'very', \"it's\", 'which', 'won', 'what', 'other', 'further', \"should've\", 'when', 'had', 'm', 'has', 'shan', 'itself', 'nor', 'we', 'who', \"shouldn't\", 'yourselves', \"you'll\", 'needn', 'am', 'any', 'off', 's', 'mustn', 'their', 'own', 'my', 'weren', 'herself', 'haven', 'no', 'such', \"won't\"}\n"
     ]
    }
   ],
   "source": [
    "print(stop)"
   ]
  },
  {
   "cell_type": "code",
   "execution_count": 17,
   "id": "e0d4ad4f",
   "metadata": {
    "execution": {
     "iopub.execute_input": "2022-09-22T08:16:12.516054Z",
     "iopub.status.busy": "2022-09-22T08:16:12.515708Z",
     "iopub.status.idle": "2022-09-22T08:16:12.560761Z",
     "shell.execute_reply": "2022-09-22T08:16:12.559721Z"
    },
    "papermill": {
     "duration": 0.058983,
     "end_time": "2022-09-22T08:16:12.563262",
     "exception": false,
     "start_time": "2022-09-22T08:16:12.504279",
     "status": "completed"
    },
    "tags": []
   },
   "outputs": [],
   "source": [
    "df[\"text\"] = df.text.map(remove_stopwords)"
   ]
  },
  {
   "cell_type": "code",
   "execution_count": 18,
   "id": "2c355656",
   "metadata": {
    "execution": {
     "iopub.execute_input": "2022-09-22T08:16:12.586365Z",
     "iopub.status.busy": "2022-09-22T08:16:12.585978Z",
     "iopub.status.idle": "2022-09-22T08:16:12.594658Z",
     "shell.execute_reply": "2022-09-22T08:16:12.593582Z"
    },
    "papermill": {
     "duration": 0.022912,
     "end_time": "2022-09-22T08:16:12.596793",
     "exception": false,
     "start_time": "2022-09-22T08:16:12.573881",
     "status": "completed"
    },
    "tags": []
   },
   "outputs": [
    {
     "data": {
      "text/plain": [
       "0            deeds reason earthquake may allah forgive us\n",
       "1                   forest fire near la ronge sask canada\n",
       "2       residents asked shelter place notified officer...\n",
       "3       13000 people receive wildfires evacuation orde...\n",
       "4       got sent photo ruby alaska smoke wildfires pou...\n",
       "                              ...                        \n",
       "7608    two giant cranes holding bridge collapse nearb...\n",
       "7609    ariaahrary thetawniest control wild fires cali...\n",
       "7610                      m194 0104 utc5km volcano hawaii\n",
       "7611    police investigating ebike collided car little...\n",
       "7612    latest homes razed northern california wildfir...\n",
       "Name: text, Length: 7613, dtype: object"
      ]
     },
     "execution_count": 18,
     "metadata": {},
     "output_type": "execute_result"
    }
   ],
   "source": [
    "df.text"
   ]
  },
  {
   "cell_type": "code",
   "execution_count": 19,
   "id": "200023e2",
   "metadata": {
    "execution": {
     "iopub.execute_input": "2022-09-22T08:16:12.619968Z",
     "iopub.status.busy": "2022-09-22T08:16:12.619564Z",
     "iopub.status.idle": "2022-09-22T08:16:12.624949Z",
     "shell.execute_reply": "2022-09-22T08:16:12.624000Z"
    },
    "papermill": {
     "duration": 0.019613,
     "end_time": "2022-09-22T08:16:12.627086",
     "exception": false,
     "start_time": "2022-09-22T08:16:12.607473",
     "status": "completed"
    },
    "tags": []
   },
   "outputs": [],
   "source": [
    "from collections import Counter\n",
    "#Count unique words\n",
    "def counter_word(text_col):\n",
    "    count = Counter()\n",
    "    for text in text_col.values:\n",
    "        for word in text.split():\n",
    "            count[word] += 1\n",
    "    return count"
   ]
  },
  {
   "cell_type": "code",
   "execution_count": 20,
   "id": "e0be7244",
   "metadata": {
    "execution": {
     "iopub.execute_input": "2022-09-22T08:16:12.650210Z",
     "iopub.status.busy": "2022-09-22T08:16:12.649828Z",
     "iopub.status.idle": "2022-09-22T08:16:12.688500Z",
     "shell.execute_reply": "2022-09-22T08:16:12.687454Z"
    },
    "papermill": {
     "duration": 0.053014,
     "end_time": "2022-09-22T08:16:12.690766",
     "exception": false,
     "start_time": "2022-09-22T08:16:12.637752",
     "status": "completed"
    },
    "tags": []
   },
   "outputs": [],
   "source": [
    "counter = counter_word(df.text)"
   ]
  },
  {
   "cell_type": "code",
   "execution_count": 21,
   "id": "c7ec2757",
   "metadata": {
    "execution": {
     "iopub.execute_input": "2022-09-22T08:16:12.713488Z",
     "iopub.status.busy": "2022-09-22T08:16:12.713085Z",
     "iopub.status.idle": "2022-09-22T08:16:12.717861Z",
     "shell.execute_reply": "2022-09-22T08:16:12.716789Z"
    },
    "papermill": {
     "duration": 0.018237,
     "end_time": "2022-09-22T08:16:12.719796",
     "exception": false,
     "start_time": "2022-09-22T08:16:12.701559",
     "status": "completed"
    },
    "tags": []
   },
   "outputs": [],
   "source": [
    "num_unique_words = len(counter)"
   ]
  },
  {
   "cell_type": "code",
   "execution_count": 22,
   "id": "45dcfc7c",
   "metadata": {
    "execution": {
     "iopub.execute_input": "2022-09-22T08:16:12.742081Z",
     "iopub.status.busy": "2022-09-22T08:16:12.741715Z",
     "iopub.status.idle": "2022-09-22T08:16:12.748597Z",
     "shell.execute_reply": "2022-09-22T08:16:12.747528Z"
    },
    "papermill": {
     "duration": 0.020213,
     "end_time": "2022-09-22T08:16:12.750594",
     "exception": false,
     "start_time": "2022-09-22T08:16:12.730381",
     "status": "completed"
    },
    "tags": []
   },
   "outputs": [
    {
     "data": {
      "text/plain": [
       "17971"
      ]
     },
     "execution_count": 22,
     "metadata": {},
     "output_type": "execute_result"
    }
   ],
   "source": [
    "len(counter)"
   ]
  },
  {
   "cell_type": "code",
   "execution_count": 23,
   "id": "dd3ab9c2",
   "metadata": {
    "execution": {
     "iopub.execute_input": "2022-09-22T08:16:12.773459Z",
     "iopub.status.busy": "2022-09-22T08:16:12.773111Z",
     "iopub.status.idle": "2022-09-22T08:16:12.782528Z",
     "shell.execute_reply": "2022-09-22T08:16:12.781526Z"
    },
    "papermill": {
     "duration": 0.023354,
     "end_time": "2022-09-22T08:16:12.784546",
     "exception": false,
     "start_time": "2022-09-22T08:16:12.761192",
     "status": "completed"
    },
    "tags": []
   },
   "outputs": [
    {
     "data": {
      "text/plain": [
       "[('like', 345), ('im', 299), ('amp', 298), ('fire', 250), ('get', 229)]"
      ]
     },
     "execution_count": 23,
     "metadata": {},
     "output_type": "execute_result"
    }
   ],
   "source": [
    "counter.most_common(5)"
   ]
  },
  {
   "cell_type": "code",
   "execution_count": 24,
   "id": "8e96f14a",
   "metadata": {
    "execution": {
     "iopub.execute_input": "2022-09-22T08:16:12.807306Z",
     "iopub.status.busy": "2022-09-22T08:16:12.806931Z",
     "iopub.status.idle": "2022-09-22T08:16:12.812101Z",
     "shell.execute_reply": "2022-09-22T08:16:12.810976Z"
    },
    "papermill": {
     "duration": 0.019368,
     "end_time": "2022-09-22T08:16:12.814417",
     "exception": false,
     "start_time": "2022-09-22T08:16:12.795049",
     "status": "completed"
    },
    "tags": []
   },
   "outputs": [],
   "source": [
    "#Split data set into training and validiation \n",
    "train_size = int(df.shape[0] * 0.8)\n",
    "train_df = df[:train_size]\n",
    "val_df = df[train_size:]"
   ]
  },
  {
   "cell_type": "code",
   "execution_count": 25,
   "id": "3a3b7002",
   "metadata": {
    "execution": {
     "iopub.execute_input": "2022-09-22T08:16:12.838365Z",
     "iopub.status.busy": "2022-09-22T08:16:12.837563Z",
     "iopub.status.idle": "2022-09-22T08:16:12.843357Z",
     "shell.execute_reply": "2022-09-22T08:16:12.842684Z"
    },
    "papermill": {
     "duration": 0.020015,
     "end_time": "2022-09-22T08:16:12.845383",
     "exception": false,
     "start_time": "2022-09-22T08:16:12.825368",
     "status": "completed"
    },
    "tags": []
   },
   "outputs": [],
   "source": [
    "#split text and labels\n",
    "train_sentences = train_df.text.to_numpy()\n",
    "train_labels = train_df.target.to_numpy()\n",
    "val_sentences = val_df.text.to_numpy()\n",
    "val_labels = val_df.target.to_numpy()"
   ]
  },
  {
   "cell_type": "code",
   "execution_count": 26,
   "id": "2a2140ac",
   "metadata": {
    "execution": {
     "iopub.execute_input": "2022-09-22T08:16:12.868581Z",
     "iopub.status.busy": "2022-09-22T08:16:12.867872Z",
     "iopub.status.idle": "2022-09-22T08:16:12.874709Z",
     "shell.execute_reply": "2022-09-22T08:16:12.873902Z"
    },
    "papermill": {
     "duration": 0.020655,
     "end_time": "2022-09-22T08:16:12.876748",
     "exception": false,
     "start_time": "2022-09-22T08:16:12.856093",
     "status": "completed"
    },
    "tags": []
   },
   "outputs": [
    {
     "data": {
      "text/plain": [
       "((6090,), (1523,))"
      ]
     },
     "execution_count": 26,
     "metadata": {},
     "output_type": "execute_result"
    }
   ],
   "source": [
    "train_sentences.shape, val_sentences.shape"
   ]
  },
  {
   "cell_type": "code",
   "execution_count": 27,
   "id": "109c729f",
   "metadata": {
    "execution": {
     "iopub.execute_input": "2022-09-22T08:16:12.899565Z",
     "iopub.status.busy": "2022-09-22T08:16:12.898898Z",
     "iopub.status.idle": "2022-09-22T08:16:13.969502Z",
     "shell.execute_reply": "2022-09-22T08:16:13.968590Z"
    },
    "papermill": {
     "duration": 1.085179,
     "end_time": "2022-09-22T08:16:13.972172",
     "exception": false,
     "start_time": "2022-09-22T08:16:12.886993",
     "status": "completed"
    },
    "tags": []
   },
   "outputs": [],
   "source": [
    "from tensorflow.keras.preprocessing.text import Tokenizer\n",
    "\n",
    "#vectorize a text corpus by turning each text into a sequence of integer\n",
    "tokenizer = Tokenizer(num_words=num_unique_words)\n",
    "tokenizer.fit_on_texts(train_sentences) #fit only to training"
   ]
  },
  {
   "cell_type": "code",
   "execution_count": 28,
   "id": "d3c3795c",
   "metadata": {
    "execution": {
     "iopub.execute_input": "2022-09-22T08:16:13.995582Z",
     "iopub.status.busy": "2022-09-22T08:16:13.995227Z",
     "iopub.status.idle": "2022-09-22T08:16:13.999423Z",
     "shell.execute_reply": "2022-09-22T08:16:13.998606Z"
    },
    "papermill": {
     "duration": 0.018448,
     "end_time": "2022-09-22T08:16:14.001508",
     "exception": false,
     "start_time": "2022-09-22T08:16:13.983060",
     "status": "completed"
    },
    "tags": []
   },
   "outputs": [],
   "source": [
    "#each word has unique index\n",
    "word_index = tokenizer.word_index\n",
    "#word_index"
   ]
  },
  {
   "cell_type": "code",
   "execution_count": 29,
   "id": "0374fb3c",
   "metadata": {
    "execution": {
     "iopub.execute_input": "2022-09-22T08:16:14.025292Z",
     "iopub.status.busy": "2022-09-22T08:16:14.024378Z",
     "iopub.status.idle": "2022-09-22T08:16:14.141949Z",
     "shell.execute_reply": "2022-09-22T08:16:14.140857Z"
    },
    "papermill": {
     "duration": 0.13189,
     "end_time": "2022-09-22T08:16:14.144450",
     "exception": false,
     "start_time": "2022-09-22T08:16:14.012560",
     "status": "completed"
    },
    "tags": []
   },
   "outputs": [],
   "source": [
    "train_sequences = tokenizer.texts_to_sequences(train_sentences)\n",
    "val_sequences = tokenizer.texts_to_sequences(val_sentences)"
   ]
  },
  {
   "cell_type": "code",
   "execution_count": 30,
   "id": "fe37ae75",
   "metadata": {
    "execution": {
     "iopub.execute_input": "2022-09-22T08:16:14.167125Z",
     "iopub.status.busy": "2022-09-22T08:16:14.166730Z",
     "iopub.status.idle": "2022-09-22T08:16:14.172413Z",
     "shell.execute_reply": "2022-09-22T08:16:14.171414Z"
    },
    "papermill": {
     "duration": 0.019193,
     "end_time": "2022-09-22T08:16:14.174503",
     "exception": false,
     "start_time": "2022-09-22T08:16:14.155310",
     "status": "completed"
    },
    "tags": []
   },
   "outputs": [
    {
     "name": "stdout",
     "output_type": "stream",
     "text": [
      "['three people died heat wave far'\n",
      " 'haha south tampa getting flooded hah wait second live south tampa gonna gonna fvck flooding'\n",
      " 'raining flooding florida tampabay tampa 18 19 days ive lost count'\n",
      " 'flood bago myanmar arrived bago'\n",
      " 'damage school bus 80 multi car crash breaking']\n",
      "[[520, 8, 395, 156, 297, 411], [749, 470, 2248, 138, 2249, 2813, 521, 611, 188, 470, 2248, 189, 189, 5679, 117], [2814, 117, 1884, 5680, 2248, 1285, 1450, 522, 256, 644, 2815], [99, 3742, 612, 1451, 3742], [111, 91, 336, 3743, 3744, 52, 22, 312]]\n"
     ]
    }
   ],
   "source": [
    "print(train_sentences[10:15])\n",
    "print(train_sequences[10:15])"
   ]
  },
  {
   "cell_type": "code",
   "execution_count": 31,
   "id": "faea3124",
   "metadata": {
    "execution": {
     "iopub.execute_input": "2022-09-22T08:16:14.196942Z",
     "iopub.status.busy": "2022-09-22T08:16:14.196604Z",
     "iopub.status.idle": "2022-09-22T08:16:14.225571Z",
     "shell.execute_reply": "2022-09-22T08:16:14.224558Z"
    },
    "papermill": {
     "duration": 0.042523,
     "end_time": "2022-09-22T08:16:14.227622",
     "exception": false,
     "start_time": "2022-09-22T08:16:14.185099",
     "status": "completed"
    },
    "tags": []
   },
   "outputs": [
    {
     "data": {
      "text/plain": [
       "((6090, 20), (1523, 20))"
      ]
     },
     "execution_count": 31,
     "metadata": {},
     "output_type": "execute_result"
    }
   ],
   "source": [
    "#Pad the sequences to have the same length\n",
    "from tensorflow.keras.preprocessing.sequence import pad_sequences\n",
    "\n",
    "#Max numbers of words in a sequence\n",
    "max_length = 20\n",
    "\n",
    "train_padded = pad_sequences(train_sequences, maxlen=max_length, \n",
    "                             padding='post', truncating='post')\n",
    "val_padded = pad_sequences(val_sequences, maxlen=max_length, \n",
    "                             padding='post', truncating='post')\n",
    "train_padded.shape, val_padded.shape"
   ]
  },
  {
   "cell_type": "code",
   "execution_count": 32,
   "id": "5e898dfa",
   "metadata": {
    "execution": {
     "iopub.execute_input": "2022-09-22T08:16:14.250206Z",
     "iopub.status.busy": "2022-09-22T08:16:14.249859Z",
     "iopub.status.idle": "2022-09-22T08:16:14.257318Z",
     "shell.execute_reply": "2022-09-22T08:16:14.256067Z"
    },
    "papermill": {
     "duration": 0.021138,
     "end_time": "2022-09-22T08:16:14.259560",
     "exception": false,
     "start_time": "2022-09-22T08:16:14.238422",
     "status": "completed"
    },
    "tags": []
   },
   "outputs": [
    {
     "name": "stdout",
     "output_type": "stream",
     "text": [
      "three people died heat wave far\n",
      "[520, 8, 395, 156, 297, 411]\n",
      "[520   8 395 156 297 411   0   0   0   0   0   0   0   0   0   0   0   0\n",
      "   0   0]\n"
     ]
    }
   ],
   "source": [
    "print(train_sentences[10])\n",
    "print(train_sequences[10])\n",
    "print(train_padded[10])"
   ]
  },
  {
   "cell_type": "code",
   "execution_count": 33,
   "id": "39a2fa19",
   "metadata": {
    "execution": {
     "iopub.execute_input": "2022-09-22T08:16:14.282504Z",
     "iopub.status.busy": "2022-09-22T08:16:14.281936Z",
     "iopub.status.idle": "2022-09-22T08:16:14.293210Z",
     "shell.execute_reply": "2022-09-22T08:16:14.292260Z"
    },
    "papermill": {
     "duration": 0.025072,
     "end_time": "2022-09-22T08:16:14.295338",
     "exception": false,
     "start_time": "2022-09-22T08:16:14.270266",
     "status": "completed"
    },
    "tags": []
   },
   "outputs": [],
   "source": [
    "#Check reversing the indices\n",
    "\n",
    "#flip(key, value)\n",
    "reverse_word_index = dict([(idx, word) for (word, idx) in word_index.items()])"
   ]
  },
  {
   "cell_type": "code",
   "execution_count": 34,
   "id": "68ff63bd",
   "metadata": {
    "execution": {
     "iopub.execute_input": "2022-09-22T08:16:14.317914Z",
     "iopub.status.busy": "2022-09-22T08:16:14.317574Z",
     "iopub.status.idle": "2022-09-22T08:16:14.321676Z",
     "shell.execute_reply": "2022-09-22T08:16:14.320784Z"
    },
    "papermill": {
     "duration": 0.017541,
     "end_time": "2022-09-22T08:16:14.323493",
     "exception": false,
     "start_time": "2022-09-22T08:16:14.305952",
     "status": "completed"
    },
    "tags": []
   },
   "outputs": [],
   "source": [
    "# reverse_word_index"
   ]
  },
  {
   "cell_type": "code",
   "execution_count": 35,
   "id": "cc346c4d",
   "metadata": {
    "execution": {
     "iopub.execute_input": "2022-09-22T08:16:14.345907Z",
     "iopub.status.busy": "2022-09-22T08:16:14.345033Z",
     "iopub.status.idle": "2022-09-22T08:16:14.350080Z",
     "shell.execute_reply": "2022-09-22T08:16:14.349137Z"
    },
    "papermill": {
     "duration": 0.018242,
     "end_time": "2022-09-22T08:16:14.352091",
     "exception": false,
     "start_time": "2022-09-22T08:16:14.333849",
     "status": "completed"
    },
    "tags": []
   },
   "outputs": [],
   "source": [
    "def decode(sequence):\n",
    "    return \" \".join([reverse_word_index.get(idx, \"?\") for idx in sequence])"
   ]
  },
  {
   "cell_type": "code",
   "execution_count": 36,
   "id": "2c2bf59b",
   "metadata": {
    "execution": {
     "iopub.execute_input": "2022-09-22T08:16:14.374571Z",
     "iopub.status.busy": "2022-09-22T08:16:14.374229Z",
     "iopub.status.idle": "2022-09-22T08:16:14.378636Z",
     "shell.execute_reply": "2022-09-22T08:16:14.377647Z"
    },
    "papermill": {
     "duration": 0.017974,
     "end_time": "2022-09-22T08:16:14.380471",
     "exception": false,
     "start_time": "2022-09-22T08:16:14.362497",
     "status": "completed"
    },
    "tags": []
   },
   "outputs": [],
   "source": [
    "decoded_text = decode(train_sequences[10])"
   ]
  },
  {
   "cell_type": "code",
   "execution_count": 37,
   "id": "2a6eac59",
   "metadata": {
    "execution": {
     "iopub.execute_input": "2022-09-22T08:16:14.402952Z",
     "iopub.status.busy": "2022-09-22T08:16:14.402620Z",
     "iopub.status.idle": "2022-09-22T08:16:14.407270Z",
     "shell.execute_reply": "2022-09-22T08:16:14.406568Z"
    },
    "papermill": {
     "duration": 0.018571,
     "end_time": "2022-09-22T08:16:14.409541",
     "exception": false,
     "start_time": "2022-09-22T08:16:14.390970",
     "status": "completed"
    },
    "tags": []
   },
   "outputs": [
    {
     "name": "stdout",
     "output_type": "stream",
     "text": [
      "[520, 8, 395, 156, 297, 411]\n",
      "three people died heat wave far\n"
     ]
    }
   ],
   "source": [
    "print(train_sequences[10])\n",
    "print(decoded_text)"
   ]
  },
  {
   "cell_type": "code",
   "execution_count": 38,
   "id": "163754b7",
   "metadata": {
    "execution": {
     "iopub.execute_input": "2022-09-22T08:16:14.432180Z",
     "iopub.status.busy": "2022-09-22T08:16:14.431839Z",
     "iopub.status.idle": "2022-09-22T08:16:14.828514Z",
     "shell.execute_reply": "2022-09-22T08:16:14.826672Z"
    },
    "papermill": {
     "duration": 0.41039,
     "end_time": "2022-09-22T08:16:14.830731",
     "exception": false,
     "start_time": "2022-09-22T08:16:14.420341",
     "status": "completed"
    },
    "tags": []
   },
   "outputs": [
    {
     "name": "stderr",
     "output_type": "stream",
     "text": [
      "2022-09-22 08:16:14.468805: I tensorflow/core/common_runtime/process_util.cc:146] Creating new thread pool with default inter op setting: 2. Tune using inter_op_parallelism_threads for best performance.\n"
     ]
    },
    {
     "name": "stdout",
     "output_type": "stream",
     "text": [
      "Model: \"sequential\"\n",
      "_________________________________________________________________\n",
      "Layer (type)                 Output Shape              Param #   \n",
      "=================================================================\n",
      "embedding (Embedding)        (None, 20, 32)            575072    \n",
      "_________________________________________________________________\n",
      "lstm (LSTM)                  (None, 64)                24832     \n",
      "_________________________________________________________________\n",
      "dense (Dense)                (None, 1)                 65        \n",
      "=================================================================\n",
      "Total params: 599,969\n",
      "Trainable params: 599,969\n",
      "Non-trainable params: 0\n",
      "_________________________________________________________________\n"
     ]
    }
   ],
   "source": [
    "#Create LSTM model\n",
    "from tensorflow.keras import layers\n",
    "model = keras.models.Sequential()\n",
    "#Embedding turns positive integers(indexes) into dense vectors of fix size.\n",
    "#(othe approach could be one-hot-encoding)\n",
    "\n",
    "#Word embedding gives us a way to use an efficient, dense representation \n",
    "#in which similar words have a similar encoding. Importantly, you do not have to\n",
    "#specify this encoding by hand. An embedding is a dense vector of floating point values \n",
    "#(the length of the vector is a parameter you specify).\n",
    "model.add(layers.Embedding(num_unique_words, 32, input_length=max_length))\n",
    "model.add(layers.LSTM(64, dropout=0.1))\n",
    "model.add(layers.Dense(1, activation='sigmoid'))\n",
    "\n",
    "model.summary()"
   ]
  },
  {
   "cell_type": "code",
   "execution_count": 39,
   "id": "ca1357f4",
   "metadata": {
    "execution": {
     "iopub.execute_input": "2022-09-22T08:16:14.854682Z",
     "iopub.status.busy": "2022-09-22T08:16:14.854032Z",
     "iopub.status.idle": "2022-09-22T08:16:14.866979Z",
     "shell.execute_reply": "2022-09-22T08:16:14.865980Z"
    },
    "papermill": {
     "duration": 0.027186,
     "end_time": "2022-09-22T08:16:14.869247",
     "exception": false,
     "start_time": "2022-09-22T08:16:14.842061",
     "status": "completed"
    },
    "tags": []
   },
   "outputs": [],
   "source": [
    "loss = keras.losses.BinaryCrossentropy(from_logits=False)\n",
    "optim = keras.optimizers.Adam(learning_rate=0.001)\n",
    "metrics = ['accuracy']\n",
    "\n",
    "model.compile(loss=loss,optimizer=optim,metrics=metrics)"
   ]
  },
  {
   "cell_type": "code",
   "execution_count": 40,
   "id": "b3581bce",
   "metadata": {
    "execution": {
     "iopub.execute_input": "2022-09-22T08:16:14.892903Z",
     "iopub.status.busy": "2022-09-22T08:16:14.892542Z",
     "iopub.status.idle": "2022-09-22T08:17:43.416780Z",
     "shell.execute_reply": "2022-09-22T08:17:43.415652Z"
    },
    "papermill": {
     "duration": 88.538614,
     "end_time": "2022-09-22T08:17:43.418702",
     "exception": false,
     "start_time": "2022-09-22T08:16:14.880088",
     "status": "completed"
    },
    "tags": []
   },
   "outputs": [
    {
     "name": "stdout",
     "output_type": "stream",
     "text": [
      "Epoch 1/20\n"
     ]
    },
    {
     "name": "stderr",
     "output_type": "stream",
     "text": [
      "2022-09-22 08:16:14.946115: I tensorflow/compiler/mlir/mlir_graph_optimization_pass.cc:185] None of the MLIR Optimization Passes are enabled (registered 2)\n"
     ]
    },
    {
     "name": "stdout",
     "output_type": "stream",
     "text": [
      "191/191 - 7s - loss: 0.5524 - accuracy: 0.7105 - val_loss: 0.4771 - val_accuracy: 0.7748\n",
      "Epoch 2/20\n",
      "191/191 - 4s - loss: 0.2949 - accuracy: 0.8869 - val_loss: 0.5182 - val_accuracy: 0.7479\n",
      "Epoch 3/20\n",
      "191/191 - 4s - loss: 0.1593 - accuracy: 0.9476 - val_loss: 0.6982 - val_accuracy: 0.7439\n",
      "Epoch 4/20\n",
      "191/191 - 5s - loss: 0.1112 - accuracy: 0.9645 - val_loss: 0.7629 - val_accuracy: 0.7518\n",
      "Epoch 5/20\n",
      "191/191 - 4s - loss: 0.0902 - accuracy: 0.9724 - val_loss: 0.8508 - val_accuracy: 0.7321\n",
      "Epoch 6/20\n",
      "191/191 - 4s - loss: 0.0763 - accuracy: 0.9759 - val_loss: 0.8623 - val_accuracy: 0.7387\n",
      "Epoch 7/20\n",
      "191/191 - 4s - loss: 0.0657 - accuracy: 0.9775 - val_loss: 0.9650 - val_accuracy: 0.7374\n",
      "Epoch 8/20\n",
      "191/191 - 4s - loss: 0.0529 - accuracy: 0.9787 - val_loss: 0.9659 - val_accuracy: 0.7341\n",
      "Epoch 9/20\n",
      "191/191 - 4s - loss: 0.0458 - accuracy: 0.9816 - val_loss: 1.1264 - val_accuracy: 0.7374\n",
      "Epoch 10/20\n",
      "191/191 - 4s - loss: 0.0424 - accuracy: 0.9808 - val_loss: 1.0333 - val_accuracy: 0.7301\n",
      "Epoch 11/20\n",
      "191/191 - 5s - loss: 0.0380 - accuracy: 0.9818 - val_loss: 1.4834 - val_accuracy: 0.7393\n",
      "Epoch 12/20\n",
      "191/191 - 4s - loss: 0.0372 - accuracy: 0.9834 - val_loss: 1.4046 - val_accuracy: 0.7380\n",
      "Epoch 13/20\n",
      "191/191 - 4s - loss: 0.0354 - accuracy: 0.9824 - val_loss: 1.2236 - val_accuracy: 0.7367\n",
      "Epoch 14/20\n",
      "191/191 - 4s - loss: 0.0358 - accuracy: 0.9829 - val_loss: 1.7222 - val_accuracy: 0.7367\n",
      "Epoch 15/20\n",
      "191/191 - 4s - loss: 0.0333 - accuracy: 0.9834 - val_loss: 1.5794 - val_accuracy: 0.7380\n",
      "Epoch 16/20\n",
      "191/191 - 4s - loss: 0.0309 - accuracy: 0.9828 - val_loss: 1.7098 - val_accuracy: 0.7288\n",
      "Epoch 17/20\n",
      "191/191 - 4s - loss: 0.0353 - accuracy: 0.9847 - val_loss: 1.4092 - val_accuracy: 0.7262\n",
      "Epoch 18/20\n",
      "191/191 - 4s - loss: 0.0312 - accuracy: 0.9844 - val_loss: 1.7101 - val_accuracy: 0.7196\n",
      "Epoch 19/20\n",
      "191/191 - 5s - loss: 0.0337 - accuracy: 0.9831 - val_loss: 1.2452 - val_accuracy: 0.7315\n",
      "Epoch 20/20\n",
      "191/191 - 4s - loss: 0.0336 - accuracy: 0.9828 - val_loss: 1.6350 - val_accuracy: 0.7282\n"
     ]
    },
    {
     "data": {
      "text/plain": [
       "<keras.callbacks.History at 0x7f894c3ba910>"
      ]
     },
     "execution_count": 40,
     "metadata": {},
     "output_type": "execute_result"
    }
   ],
   "source": [
    "model.fit(train_padded, train_labels, epochs=20, \n",
    "                    validation_data=(val_padded, val_labels), verbose=2)"
   ]
  },
  {
   "cell_type": "code",
   "execution_count": 41,
   "id": "62689036",
   "metadata": {
    "execution": {
     "iopub.execute_input": "2022-09-22T08:17:43.446410Z",
     "iopub.status.busy": "2022-09-22T08:17:43.445822Z",
     "iopub.status.idle": "2022-09-22T08:17:45.011704Z",
     "shell.execute_reply": "2022-09-22T08:17:45.010834Z"
    },
    "papermill": {
     "duration": 1.582151,
     "end_time": "2022-09-22T08:17:45.014042",
     "exception": false,
     "start_time": "2022-09-22T08:17:43.431891",
     "status": "completed"
    },
    "tags": []
   },
   "outputs": [],
   "source": [
    "predictions = model.predict(train_padded)\n",
    "predictions = [1 if p > 0.5 else 0 for p in predictions]"
   ]
  },
  {
   "cell_type": "code",
   "execution_count": 42,
   "id": "ef5d3682",
   "metadata": {
    "execution": {
     "iopub.execute_input": "2022-09-22T08:17:45.043079Z",
     "iopub.status.busy": "2022-09-22T08:17:45.042458Z",
     "iopub.status.idle": "2022-09-22T08:17:45.048203Z",
     "shell.execute_reply": "2022-09-22T08:17:45.046980Z"
    },
    "papermill": {
     "duration": 0.022366,
     "end_time": "2022-09-22T08:17:45.050276",
     "exception": false,
     "start_time": "2022-09-22T08:17:45.027910",
     "status": "completed"
    },
    "tags": []
   },
   "outputs": [
    {
     "name": "stdout",
     "output_type": "stream",
     "text": [
      "['three people died heat wave far'\n",
      " 'haha south tampa getting flooded hah wait second live south tampa gonna gonna fvck flooding'\n",
      " 'raining flooding florida tampabay tampa 18 19 days ive lost count'\n",
      " 'flood bago myanmar arrived bago'\n",
      " 'damage school bus 80 multi car crash breaking' 'whats man' 'love fruits'\n",
      " 'summer lovely' 'car fast' 'goooooooaaaaaal']\n",
      "[1 1 1 1 1 0 0 0 0 0]\n",
      "[1, 1, 1, 1, 1, 0, 0, 0, 0, 0]\n"
     ]
    }
   ],
   "source": [
    "print(train_sentences[10:20])\n",
    "print(train_labels[10:20])\n",
    "print(predictions[10:20])"
   ]
  },
  {
   "cell_type": "code",
   "execution_count": null,
   "id": "555ea820",
   "metadata": {
    "papermill": {
     "duration": 0.013446,
     "end_time": "2022-09-22T08:17:45.077136",
     "exception": false,
     "start_time": "2022-09-22T08:17:45.063690",
     "status": "completed"
    },
    "tags": []
   },
   "outputs": [],
   "source": []
  }
 ],
 "metadata": {
  "kernelspec": {
   "display_name": "Python 3",
   "language": "python",
   "name": "python3"
  },
  "language_info": {
   "codemirror_mode": {
    "name": "ipython",
    "version": 3
   },
   "file_extension": ".py",
   "mimetype": "text/x-python",
   "name": "python",
   "nbconvert_exporter": "python",
   "pygments_lexer": "ipython3",
   "version": "3.7.12"
  },
  "papermill": {
   "default_parameters": {},
   "duration": 111.161102,
   "end_time": "2022-09-22T08:17:47.870941",
   "environment_variables": {},
   "exception": null,
   "input_path": "__notebook__.ipynb",
   "output_path": "__notebook__.ipynb",
   "parameters": {},
   "start_time": "2022-09-22T08:15:56.709839",
   "version": "2.3.4"
  }
 },
 "nbformat": 4,
 "nbformat_minor": 5
}
