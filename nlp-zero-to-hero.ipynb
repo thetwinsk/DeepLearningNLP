{
 "cells": [
  {
   "cell_type": "code",
   "execution_count": 1,
   "id": "b9ef7e8c",
   "metadata": {
    "_cell_guid": "b1076dfc-b9ad-4769-8c92-a6c4dae69d19",
    "_uuid": "8f2839f25d086af736a60e9eeb907d3b93b6e0e5",
    "execution": {
     "iopub.execute_input": "2022-09-15T10:08:20.610114Z",
     "iopub.status.busy": "2022-09-15T10:08:20.609365Z",
     "iopub.status.idle": "2022-09-15T10:08:20.633004Z",
     "shell.execute_reply": "2022-09-15T10:08:20.631753Z"
    },
    "papermill": {
     "duration": 0.035849,
     "end_time": "2022-09-15T10:08:20.636549",
     "exception": false,
     "start_time": "2022-09-15T10:08:20.600700",
     "status": "completed"
    },
    "tags": []
   },
   "outputs": [
    {
     "name": "stdout",
     "output_type": "stream",
     "text": [
      "/kaggle/input/news-headlines-dataset-for-sarcasm-detection/Sarcasm_Headlines_Dataset_v2.json\n",
      "/kaggle/input/news-headlines-dataset-for-sarcasm-detection/Sarcasm_Headlines_Dataset.json\n"
     ]
    }
   ],
   "source": [
    "# This Python 3 environment comes with many helpful analytics libraries installed\n",
    "# It is defined by the kaggle/python Docker image: https://github.com/kaggle/docker-python\n",
    "# For example, here's several helpful packages to load\n",
    "\n",
    "import numpy as np # linear algebra\n",
    "import pandas as pd # data processing, CSV file I/O (e.g. pd.read_csv)\n",
    "\n",
    "# Input data files are available in the read-only \"../input/\" directory\n",
    "# For example, running this (by clicking run or pressing Shift+Enter) will list all files under the input directory\n",
    "\n",
    "import os\n",
    "for dirname, _, filenames in os.walk('/kaggle/input'):\n",
    "    for filename in filenames:\n",
    "        print(os.path.join(dirname, filename))\n",
    "\n",
    "# You can write up to 20GB to the current directory (/kaggle/working/) that gets preserved as output when you create a version using \"Save & Run All\" \n",
    "# You can also write temporary files to /kaggle/temp/, but they won't be saved outside of the current session"
   ]
  },
  {
   "cell_type": "code",
   "execution_count": 2,
   "id": "c35e87f9",
   "metadata": {
    "execution": {
     "iopub.execute_input": "2022-09-15T10:08:20.649264Z",
     "iopub.status.busy": "2022-09-15T10:08:20.648505Z",
     "iopub.status.idle": "2022-09-15T10:08:28.345214Z",
     "shell.execute_reply": "2022-09-15T10:08:28.343790Z"
    },
    "papermill": {
     "duration": 7.706344,
     "end_time": "2022-09-15T10:08:28.348368",
     "exception": false,
     "start_time": "2022-09-15T10:08:20.642024",
     "status": "completed"
    },
    "tags": []
   },
   "outputs": [],
   "source": [
    "import tensorflow as tf\n",
    "from tensorflow import keras\n",
    "from tensorflow.keras.preprocessing.text import Tokenizer\n",
    "from tensorflow.keras.preprocessing.sequence import pad_sequences"
   ]
  },
  {
   "cell_type": "code",
   "execution_count": 3,
   "id": "0df17dc6",
   "metadata": {
    "execution": {
     "iopub.execute_input": "2022-09-15T10:08:28.362035Z",
     "iopub.status.busy": "2022-09-15T10:08:28.361326Z",
     "iopub.status.idle": "2022-09-15T10:08:28.367324Z",
     "shell.execute_reply": "2022-09-15T10:08:28.365857Z"
    },
    "papermill": {
     "duration": 0.016082,
     "end_time": "2022-09-15T10:08:28.369723",
     "exception": false,
     "start_time": "2022-09-15T10:08:28.353641",
     "status": "completed"
    },
    "tags": []
   },
   "outputs": [],
   "source": [
    "# sentences = [\n",
    "#     'I love my dog',\n",
    "#     'I love my cat',\n",
    "#     'You love my dog!',\n",
    "#     'Do you think my dog is amazing?'\n",
    "# ]\n",
    "\n",
    "# tokenizer = Tokenizer(num_words=100, oov_token=\"<OOV>\")\n",
    "# tokenizer.fit_on_texts(sentences)\n",
    "# word_index = tokenizer.word_index\n",
    "\n",
    "# sequences = tokenizer.texts_to_sequences(sentences)\n",
    "\n",
    "# padded = pad_sequences(sequences, padding='post', truncating='post', maxlen=5)\n",
    "# #padding='post': the zeros will move to the end \n",
    "# #truncating='post' with maxlen if smaller than the string (numbers), it will take the beginning\n",
    "# #otherwise, maxlen will just take the detail\n",
    "# print(word_index)\n",
    "# print(sequences)\n",
    "# print(padded)"
   ]
  },
  {
   "cell_type": "code",
   "execution_count": 4,
   "id": "d604612f",
   "metadata": {
    "execution": {
     "iopub.execute_input": "2022-09-15T10:08:28.381474Z",
     "iopub.status.busy": "2022-09-15T10:08:28.381085Z",
     "iopub.status.idle": "2022-09-15T10:08:28.385675Z",
     "shell.execute_reply": "2022-09-15T10:08:28.384555Z"
    },
    "papermill": {
     "duration": 0.013099,
     "end_time": "2022-09-15T10:08:28.388070",
     "exception": false,
     "start_time": "2022-09-15T10:08:28.374971",
     "status": "completed"
    },
    "tags": []
   },
   "outputs": [],
   "source": [
    "# test_data = [\n",
    "#     'I really love my dog',\n",
    "#     'my dog loves my manatee'\n",
    "# ]\n",
    "# test_seq = tokenizer.texts_to_sequences(test_data)\n",
    "# print(test_seq)\n",
    "# print(word_index)"
   ]
  },
  {
   "cell_type": "code",
   "execution_count": 5,
   "id": "4c378f37",
   "metadata": {
    "execution": {
     "iopub.execute_input": "2022-09-15T10:08:28.400272Z",
     "iopub.status.busy": "2022-09-15T10:08:28.399906Z",
     "iopub.status.idle": "2022-09-15T10:08:28.404804Z",
     "shell.execute_reply": "2022-09-15T10:08:28.403966Z"
    },
    "papermill": {
     "duration": 0.013958,
     "end_time": "2022-09-15T10:08:28.407125",
     "exception": false,
     "start_time": "2022-09-15T10:08:28.393167",
     "status": "completed"
    },
    "tags": []
   },
   "outputs": [],
   "source": [
    "# import json\n",
    "# with open(\"/kaggle/input/news-headlines-dataset-for-sarcasm-detection/Sarcasm_Headlines_Dataset.json\", 'r') as f:\n",
    "#     datastore = json.load(f)\n",
    "# sentences = []\n",
    "# labels = []\n",
    "# urls = []\n",
    "# for item in datastore:\n",
    "#     sentences.append(item['headline'])\n",
    "#     labels.append(item['is_sarcastic'])\n",
    "#     urls.append(item['article_link'])\n"
   ]
  },
  {
   "cell_type": "code",
   "execution_count": 6,
   "id": "a8be4cfc",
   "metadata": {
    "execution": {
     "iopub.execute_input": "2022-09-15T10:08:28.419272Z",
     "iopub.status.busy": "2022-09-15T10:08:28.418603Z",
     "iopub.status.idle": "2022-09-15T10:08:28.707382Z",
     "shell.execute_reply": "2022-09-15T10:08:28.706454Z"
    },
    "papermill": {
     "duration": 0.297627,
     "end_time": "2022-09-15T10:08:28.709742",
     "exception": false,
     "start_time": "2022-09-15T10:08:28.412115",
     "status": "completed"
    },
    "tags": []
   },
   "outputs": [
    {
     "data": {
      "text/html": [
       "<div>\n",
       "<style scoped>\n",
       "    .dataframe tbody tr th:only-of-type {\n",
       "        vertical-align: middle;\n",
       "    }\n",
       "\n",
       "    .dataframe tbody tr th {\n",
       "        vertical-align: top;\n",
       "    }\n",
       "\n",
       "    .dataframe thead th {\n",
       "        text-align: right;\n",
       "    }\n",
       "</style>\n",
       "<table border=\"1\" class=\"dataframe\">\n",
       "  <thead>\n",
       "    <tr style=\"text-align: right;\">\n",
       "      <th></th>\n",
       "      <th>article_link</th>\n",
       "      <th>headline</th>\n",
       "      <th>is_sarcastic</th>\n",
       "    </tr>\n",
       "  </thead>\n",
       "  <tbody>\n",
       "    <tr>\n",
       "      <th>0</th>\n",
       "      <td>https://www.huffingtonpost.com/entry/versace-b...</td>\n",
       "      <td>former versace store clerk sues over secret 'b...</td>\n",
       "      <td>0</td>\n",
       "    </tr>\n",
       "    <tr>\n",
       "      <th>1</th>\n",
       "      <td>https://www.huffingtonpost.com/entry/roseanne-...</td>\n",
       "      <td>the 'roseanne' revival catches up to our thorn...</td>\n",
       "      <td>0</td>\n",
       "    </tr>\n",
       "    <tr>\n",
       "      <th>2</th>\n",
       "      <td>https://local.theonion.com/mom-starting-to-fea...</td>\n",
       "      <td>mom starting to fear son's web series closest ...</td>\n",
       "      <td>1</td>\n",
       "    </tr>\n",
       "    <tr>\n",
       "      <th>3</th>\n",
       "      <td>https://politics.theonion.com/boehner-just-wan...</td>\n",
       "      <td>boehner just wants wife to listen, not come up...</td>\n",
       "      <td>1</td>\n",
       "    </tr>\n",
       "    <tr>\n",
       "      <th>4</th>\n",
       "      <td>https://www.huffingtonpost.com/entry/jk-rowlin...</td>\n",
       "      <td>j.k. rowling wishes snape happy birthday in th...</td>\n",
       "      <td>0</td>\n",
       "    </tr>\n",
       "  </tbody>\n",
       "</table>\n",
       "</div>"
      ],
      "text/plain": [
       "                                        article_link  \\\n",
       "0  https://www.huffingtonpost.com/entry/versace-b...   \n",
       "1  https://www.huffingtonpost.com/entry/roseanne-...   \n",
       "2  https://local.theonion.com/mom-starting-to-fea...   \n",
       "3  https://politics.theonion.com/boehner-just-wan...   \n",
       "4  https://www.huffingtonpost.com/entry/jk-rowlin...   \n",
       "\n",
       "                                            headline  is_sarcastic  \n",
       "0  former versace store clerk sues over secret 'b...             0  \n",
       "1  the 'roseanne' revival catches up to our thorn...             0  \n",
       "2  mom starting to fear son's web series closest ...             1  \n",
       "3  boehner just wants wife to listen, not come up...             1  \n",
       "4  j.k. rowling wishes snape happy birthday in th...             0  "
      ]
     },
     "execution_count": 6,
     "metadata": {},
     "output_type": "execute_result"
    }
   ],
   "source": [
    "datastore = pd.read_json(\"/kaggle/input/news-headlines-dataset-for-sarcasm-detection/Sarcasm_Headlines_Dataset.json\",\n",
    "                         lines=True, orient='columns')\n",
    "datastore.head()"
   ]
  },
  {
   "cell_type": "code",
   "execution_count": 7,
   "id": "33a0662f",
   "metadata": {
    "execution": {
     "iopub.execute_input": "2022-09-15T10:08:28.722676Z",
     "iopub.status.busy": "2022-09-15T10:08:28.722059Z",
     "iopub.status.idle": "2022-09-15T10:08:28.728692Z",
     "shell.execute_reply": "2022-09-15T10:08:28.727427Z"
    },
    "papermill": {
     "duration": 0.015957,
     "end_time": "2022-09-15T10:08:28.731316",
     "exception": false,
     "start_time": "2022-09-15T10:08:28.715359",
     "status": "completed"
    },
    "tags": []
   },
   "outputs": [
    {
     "data": {
      "text/plain": [
       "(26709, 3)"
      ]
     },
     "execution_count": 7,
     "metadata": {},
     "output_type": "execute_result"
    }
   ],
   "source": [
    "datastore.shape"
   ]
  },
  {
   "cell_type": "code",
   "execution_count": 8,
   "id": "7cc34e84",
   "metadata": {
    "execution": {
     "iopub.execute_input": "2022-09-15T10:08:28.744748Z",
     "iopub.status.busy": "2022-09-15T10:08:28.744304Z",
     "iopub.status.idle": "2022-09-15T10:08:28.750154Z",
     "shell.execute_reply": "2022-09-15T10:08:28.749141Z"
    },
    "papermill": {
     "duration": 0.015346,
     "end_time": "2022-09-15T10:08:28.752585",
     "exception": false,
     "start_time": "2022-09-15T10:08:28.737239",
     "status": "completed"
    },
    "tags": []
   },
   "outputs": [],
   "source": [
    "sentences = datastore.headline\n",
    "labels = datastore.is_sarcastic"
   ]
  },
  {
   "cell_type": "code",
   "execution_count": 9,
   "id": "5f90d626",
   "metadata": {
    "execution": {
     "iopub.execute_input": "2022-09-15T10:08:28.766687Z",
     "iopub.status.busy": "2022-09-15T10:08:28.765621Z",
     "iopub.status.idle": "2022-09-15T10:08:29.979850Z",
     "shell.execute_reply": "2022-09-15T10:08:29.977258Z"
    },
    "papermill": {
     "duration": 1.224759,
     "end_time": "2022-09-15T10:08:29.983222",
     "exception": false,
     "start_time": "2022-09-15T10:08:28.758463",
     "status": "completed"
    },
    "tags": []
   },
   "outputs": [
    {
     "name": "stdout",
     "output_type": "stream",
     "text": [
      "[  308 15115   679  3337  2298    48   382  2576 15116     6  2577  8434\n",
      "     0     0     0     0     0     0     0     0     0     0     0     0\n",
      "     0     0     0     0     0     0     0     0     0     0     0     0\n",
      "     0     0     0     0]\n",
      "(26709, 40)\n"
     ]
    }
   ],
   "source": [
    "tokenizer = Tokenizer(oov_token=\"<OOV>\")\n",
    "tokenizer.fit_on_texts(sentences)\n",
    "word_index = tokenizer.word_index\n",
    "sequences = tokenizer.texts_to_sequences(sentences)\n",
    "padded = pad_sequences(sequences, padding='post')\n",
    "print(padded[0])\n",
    "print(padded.shape)"
   ]
  },
  {
   "cell_type": "code",
   "execution_count": 10,
   "id": "44465dfc",
   "metadata": {
    "execution": {
     "iopub.execute_input": "2022-09-15T10:08:29.996658Z",
     "iopub.status.busy": "2022-09-15T10:08:29.995882Z",
     "iopub.status.idle": "2022-09-15T10:08:30.000658Z",
     "shell.execute_reply": "2022-09-15T10:08:29.999402Z"
    },
    "papermill": {
     "duration": 0.013918,
     "end_time": "2022-09-15T10:08:30.002875",
     "exception": false,
     "start_time": "2022-09-15T10:08:29.988957",
     "status": "completed"
    },
    "tags": []
   },
   "outputs": [],
   "source": [
    "# print(word_index)"
   ]
  },
  {
   "cell_type": "code",
   "execution_count": 11,
   "id": "d29d1b3b",
   "metadata": {
    "execution": {
     "iopub.execute_input": "2022-09-15T10:08:30.016021Z",
     "iopub.status.busy": "2022-09-15T10:08:30.015276Z",
     "iopub.status.idle": "2022-09-15T10:08:30.019746Z",
     "shell.execute_reply": "2022-09-15T10:08:30.018917Z"
    },
    "papermill": {
     "duration": 0.013687,
     "end_time": "2022-09-15T10:08:30.022098",
     "exception": false,
     "start_time": "2022-09-15T10:08:30.008411",
     "status": "completed"
    },
    "tags": []
   },
   "outputs": [],
   "source": [
    "training_size = 20000"
   ]
  },
  {
   "cell_type": "code",
   "execution_count": 12,
   "id": "98458ce4",
   "metadata": {
    "execution": {
     "iopub.execute_input": "2022-09-15T10:08:30.041133Z",
     "iopub.status.busy": "2022-09-15T10:08:30.040076Z",
     "iopub.status.idle": "2022-09-15T10:08:30.046331Z",
     "shell.execute_reply": "2022-09-15T10:08:30.045378Z"
    },
    "papermill": {
     "duration": 0.0196,
     "end_time": "2022-09-15T10:08:30.049193",
     "exception": false,
     "start_time": "2022-09-15T10:08:30.029593",
     "status": "completed"
    },
    "tags": []
   },
   "outputs": [],
   "source": [
    "training_sentences = sentences[0:training_size]\n",
    "testing_sentences = sentences[training_size:]\n",
    "training_labels = labels[0:training_size]\n",
    "testing_labels = labels[training_size:]"
   ]
  },
  {
   "cell_type": "code",
   "execution_count": 13,
   "id": "e933cd8c",
   "metadata": {
    "execution": {
     "iopub.execute_input": "2022-09-15T10:08:30.064354Z",
     "iopub.status.busy": "2022-09-15T10:08:30.063770Z",
     "iopub.status.idle": "2022-09-15T10:08:30.070534Z",
     "shell.execute_reply": "2022-09-15T10:08:30.069194Z"
    },
    "papermill": {
     "duration": 0.017954,
     "end_time": "2022-09-15T10:08:30.073303",
     "exception": false,
     "start_time": "2022-09-15T10:08:30.055349",
     "status": "completed"
    },
    "tags": []
   },
   "outputs": [],
   "source": [
    "vocab_size = 10000\n",
    "max_length = 100\n",
    "padding_type='post'\n",
    "trunc_type='post'"
   ]
  },
  {
   "cell_type": "code",
   "execution_count": 14,
   "id": "57ded70b",
   "metadata": {
    "execution": {
     "iopub.execute_input": "2022-09-15T10:08:30.086227Z",
     "iopub.status.busy": "2022-09-15T10:08:30.085815Z",
     "iopub.status.idle": "2022-09-15T10:08:31.011542Z",
     "shell.execute_reply": "2022-09-15T10:08:31.010325Z"
    },
    "papermill": {
     "duration": 0.935537,
     "end_time": "2022-09-15T10:08:31.014314",
     "exception": false,
     "start_time": "2022-09-15T10:08:30.078777",
     "status": "completed"
    },
    "tags": []
   },
   "outputs": [],
   "source": [
    "tokenizer = Tokenizer(num_words=vocab_size, oov_token=\"<OOV>\")\n",
    "tokenizer.fit_on_texts(training_sentences)\n",
    "\n",
    "word_index = tokenizer.word_index\n",
    "\n",
    "training_sequences = tokenizer.texts_to_sequences(training_sentences)\n",
    "training_padded = pad_sequences(training_sequences, maxlen=max_length, \n",
    "                                padding=padding_type, truncating=trunc_type)\n",
    "\n",
    "testing_sequences = tokenizer.texts_to_sequences(testing_sentences)\n",
    "testing_padded = pad_sequences(testing_sequences, maxlen=max_length, \n",
    "                               padding=padding_type, truncating=trunc_type)"
   ]
  },
  {
   "cell_type": "code",
   "execution_count": 15,
   "id": "1175dae3",
   "metadata": {
    "execution": {
     "iopub.execute_input": "2022-09-15T10:08:31.028703Z",
     "iopub.status.busy": "2022-09-15T10:08:31.026731Z",
     "iopub.status.idle": "2022-09-15T10:08:31.178641Z",
     "shell.execute_reply": "2022-09-15T10:08:31.177442Z"
    },
    "papermill": {
     "duration": 0.161545,
     "end_time": "2022-09-15T10:08:31.181415",
     "exception": false,
     "start_time": "2022-09-15T10:08:31.019870",
     "status": "completed"
    },
    "tags": []
   },
   "outputs": [
    {
     "name": "stderr",
     "output_type": "stream",
     "text": [
      "2022-09-15 10:08:31.079835: I tensorflow/core/common_runtime/process_util.cc:146] Creating new thread pool with default inter op setting: 2. Tune using inter_op_parallelism_threads for best performance.\n"
     ]
    }
   ],
   "source": [
    "embedding_dim = 16\n",
    "model = tf.keras.Sequential([\n",
    "    tf.keras.layers.Embedding(vocab_size, embedding_dim, input_length=max_length),\n",
    "    tf.keras.layers.GlobalAveragePooling1D(),\n",
    "    tf.keras.layers.Dense(24, activation='relu'),\n",
    "    tf.keras.layers.Dense(1, activation='sigmoid')\n",
    "])\n",
    "model.compile(loss='binary_crossentropy',optimizer='adam',metrics=['accuracy'])"
   ]
  },
  {
   "cell_type": "code",
   "execution_count": 16,
   "id": "e8835ea9",
   "metadata": {
    "execution": {
     "iopub.execute_input": "2022-09-15T10:08:31.194399Z",
     "iopub.status.busy": "2022-09-15T10:08:31.193731Z",
     "iopub.status.idle": "2022-09-15T10:09:36.574312Z",
     "shell.execute_reply": "2022-09-15T10:09:36.572794Z"
    },
    "papermill": {
     "duration": 65.390386,
     "end_time": "2022-09-15T10:09:36.577353",
     "exception": false,
     "start_time": "2022-09-15T10:08:31.186967",
     "status": "completed"
    },
    "tags": []
   },
   "outputs": [
    {
     "name": "stderr",
     "output_type": "stream",
     "text": [
      "2022-09-15 10:08:31.287598: I tensorflow/compiler/mlir/mlir_graph_optimization_pass.cc:185] None of the MLIR Optimization Passes are enabled (registered 2)\n"
     ]
    },
    {
     "name": "stdout",
     "output_type": "stream",
     "text": [
      "Epoch 1/30\n",
      "625/625 - 3s - loss: 0.6731 - accuracy: 0.5742 - val_loss: 0.6212 - val_accuracy: 0.7563\n",
      "Epoch 2/30\n",
      "625/625 - 2s - loss: 0.4689 - accuracy: 0.8180 - val_loss: 0.4001 - val_accuracy: 0.8316\n",
      "Epoch 3/30\n",
      "625/625 - 2s - loss: 0.3276 - accuracy: 0.8698 - val_loss: 0.3585 - val_accuracy: 0.8486\n",
      "Epoch 4/30\n",
      "625/625 - 2s - loss: 0.2725 - accuracy: 0.8927 - val_loss: 0.3468 - val_accuracy: 0.8548\n",
      "Epoch 5/30\n",
      "625/625 - 2s - loss: 0.2361 - accuracy: 0.9075 - val_loss: 0.3452 - val_accuracy: 0.8544\n",
      "Epoch 6/30\n",
      "625/625 - 2s - loss: 0.2077 - accuracy: 0.9202 - val_loss: 0.3471 - val_accuracy: 0.8538\n",
      "Epoch 7/30\n",
      "625/625 - 2s - loss: 0.1853 - accuracy: 0.9312 - val_loss: 0.3559 - val_accuracy: 0.8539\n",
      "Epoch 8/30\n",
      "625/625 - 2s - loss: 0.1663 - accuracy: 0.9388 - val_loss: 0.3680 - val_accuracy: 0.8538\n",
      "Epoch 9/30\n",
      "625/625 - 2s - loss: 0.1511 - accuracy: 0.9433 - val_loss: 0.3824 - val_accuracy: 0.8541\n",
      "Epoch 10/30\n",
      "625/625 - 2s - loss: 0.1364 - accuracy: 0.9518 - val_loss: 0.4036 - val_accuracy: 0.8512\n",
      "Epoch 11/30\n",
      "625/625 - 2s - loss: 0.1243 - accuracy: 0.9557 - val_loss: 0.4187 - val_accuracy: 0.8505\n",
      "Epoch 12/30\n",
      "625/625 - 2s - loss: 0.1141 - accuracy: 0.9606 - val_loss: 0.4572 - val_accuracy: 0.8402\n",
      "Epoch 13/30\n",
      "625/625 - 2s - loss: 0.1039 - accuracy: 0.9646 - val_loss: 0.4628 - val_accuracy: 0.8463\n",
      "Epoch 14/30\n",
      "625/625 - 2s - loss: 0.0965 - accuracy: 0.9671 - val_loss: 0.4863 - val_accuracy: 0.8442\n",
      "Epoch 15/30\n",
      "625/625 - 2s - loss: 0.0885 - accuracy: 0.9708 - val_loss: 0.5174 - val_accuracy: 0.8401\n",
      "Epoch 16/30\n",
      "625/625 - 2s - loss: 0.0803 - accuracy: 0.9746 - val_loss: 0.5497 - val_accuracy: 0.8359\n",
      "Epoch 17/30\n",
      "625/625 - 2s - loss: 0.0738 - accuracy: 0.9759 - val_loss: 0.5820 - val_accuracy: 0.8340\n",
      "Epoch 18/30\n",
      "625/625 - 2s - loss: 0.0688 - accuracy: 0.9785 - val_loss: 0.6047 - val_accuracy: 0.8340\n",
      "Epoch 19/30\n",
      "625/625 - 2s - loss: 0.0626 - accuracy: 0.9804 - val_loss: 0.6506 - val_accuracy: 0.8322\n",
      "Epoch 20/30\n",
      "625/625 - 2s - loss: 0.0580 - accuracy: 0.9821 - val_loss: 0.6972 - val_accuracy: 0.8269\n",
      "Epoch 21/30\n",
      "625/625 - 2s - loss: 0.0539 - accuracy: 0.9835 - val_loss: 0.7063 - val_accuracy: 0.8289\n",
      "Epoch 22/30\n",
      "625/625 - 2s - loss: 0.0484 - accuracy: 0.9852 - val_loss: 0.7391 - val_accuracy: 0.8255\n",
      "Epoch 23/30\n",
      "625/625 - 2s - loss: 0.0461 - accuracy: 0.9856 - val_loss: 0.7729 - val_accuracy: 0.8238\n",
      "Epoch 24/30\n",
      "625/625 - 2s - loss: 0.0423 - accuracy: 0.9862 - val_loss: 0.7949 - val_accuracy: 0.8253\n",
      "Epoch 25/30\n",
      "625/625 - 2s - loss: 0.0405 - accuracy: 0.9875 - val_loss: 0.8274 - val_accuracy: 0.8232\n",
      "Epoch 26/30\n",
      "625/625 - 2s - loss: 0.0365 - accuracy: 0.9890 - val_loss: 0.8739 - val_accuracy: 0.8183\n",
      "Epoch 27/30\n",
      "625/625 - 2s - loss: 0.0338 - accuracy: 0.9902 - val_loss: 0.9029 - val_accuracy: 0.8192\n",
      "Epoch 28/30\n",
      "625/625 - 2s - loss: 0.0305 - accuracy: 0.9917 - val_loss: 0.9373 - val_accuracy: 0.8176\n",
      "Epoch 29/30\n",
      "625/625 - 2s - loss: 0.0294 - accuracy: 0.9918 - val_loss: 0.9662 - val_accuracy: 0.8177\n",
      "Epoch 30/30\n",
      "625/625 - 2s - loss: 0.0279 - accuracy: 0.9918 - val_loss: 1.0142 - val_accuracy: 0.8146\n"
     ]
    }
   ],
   "source": [
    "num_epochs = 30\n",
    "history = model.fit(training_padded, training_labels, epochs=num_epochs, \n",
    "                    validation_data=(testing_padded, testing_labels), verbose=2)"
   ]
  },
  {
   "cell_type": "code",
   "execution_count": 17,
   "id": "c59ae90c",
   "metadata": {
    "execution": {
     "iopub.execute_input": "2022-09-15T10:09:36.597436Z",
     "iopub.status.busy": "2022-09-15T10:09:36.597013Z",
     "iopub.status.idle": "2022-09-15T10:09:36.739817Z",
     "shell.execute_reply": "2022-09-15T10:09:36.738703Z"
    },
    "papermill": {
     "duration": 0.155945,
     "end_time": "2022-09-15T10:09:36.742452",
     "exception": false,
     "start_time": "2022-09-15T10:09:36.586507",
     "status": "completed"
    },
    "tags": []
   },
   "outputs": [
    {
     "name": "stdout",
     "output_type": "stream",
     "text": [
      "[[9.1834074e-01]\n",
      " [1.3348407e-05]]\n"
     ]
    }
   ],
   "source": [
    "sentence = [\"granny starting to fear spiders in the garden might be real\",\n",
    "            \"game of thrones season finale showing this sunday night\"]\n",
    "sequences = tokenizer.texts_to_sequences(sentence)\n",
    "padded = pad_sequences(sequences, maxlen=max_length, padding=padding_type, truncating=trunc_type)\n",
    "print(model.predict(padded))"
   ]
  },
  {
   "cell_type": "code",
   "execution_count": null,
   "id": "60f54f44",
   "metadata": {
    "papermill": {
     "duration": 0.009309,
     "end_time": "2022-09-15T10:09:36.761007",
     "exception": false,
     "start_time": "2022-09-15T10:09:36.751698",
     "status": "completed"
    },
    "tags": []
   },
   "outputs": [],
   "source": []
  }
 ],
 "metadata": {
  "kernelspec": {
   "display_name": "Python 3",
   "language": "python",
   "name": "python3"
  },
  "language_info": {
   "codemirror_mode": {
    "name": "ipython",
    "version": 3
   },
   "file_extension": ".py",
   "mimetype": "text/x-python",
   "name": "python",
   "nbconvert_exporter": "python",
   "pygments_lexer": "ipython3",
   "version": "3.7.12"
  },
  "papermill": {
   "default_parameters": {},
   "duration": 89.348867,
   "end_time": "2022-09-15T10:09:39.899883",
   "environment_variables": {},
   "exception": null,
   "input_path": "__notebook__.ipynb",
   "output_path": "__notebook__.ipynb",
   "parameters": {},
   "start_time": "2022-09-15T10:08:10.551016",
   "version": "2.3.4"
  }
 },
 "nbformat": 4,
 "nbformat_minor": 5
}
