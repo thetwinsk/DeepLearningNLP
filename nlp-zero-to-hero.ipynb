{
 "cells": [
  {
   "cell_type": "code",
   "execution_count": 1,
   "id": "f34d3a55",
   "metadata": {
    "_cell_guid": "b1076dfc-b9ad-4769-8c92-a6c4dae69d19",
    "_uuid": "8f2839f25d086af736a60e9eeb907d3b93b6e0e5",
    "execution": {
     "iopub.execute_input": "2022-09-16T12:37:59.572086Z",
     "iopub.status.busy": "2022-09-16T12:37:59.570113Z",
     "iopub.status.idle": "2022-09-16T12:37:59.593693Z",
     "shell.execute_reply": "2022-09-16T12:37:59.592375Z"
    },
    "papermill": {
     "duration": 0.03827,
     "end_time": "2022-09-16T12:37:59.596873",
     "exception": false,
     "start_time": "2022-09-16T12:37:59.558603",
     "status": "completed"
    },
    "tags": []
   },
   "outputs": [
    {
     "name": "stdout",
     "output_type": "stream",
     "text": [
      "/kaggle/input/news-headlines-dataset-for-sarcasm-detection/Sarcasm_Headlines_Dataset_v2.json\n",
      "/kaggle/input/news-headlines-dataset-for-sarcasm-detection/Sarcasm_Headlines_Dataset.json\n"
     ]
    }
   ],
   "source": [
    "# This Python 3 environment comes with many helpful analytics libraries installed\n",
    "# It is defined by the kaggle/python Docker image: https://github.com/kaggle/docker-python\n",
    "# For example, here's several helpful packages to load\n",
    "\n",
    "import numpy as np # linear algebra\n",
    "import pandas as pd # data processing, CSV file I/O (e.g. pd.read_csv)\n",
    "\n",
    "# Input data files are available in the read-only \"../input/\" directory\n",
    "# For example, running this (by clicking run or pressing Shift+Enter) will list all files under the input directory\n",
    "\n",
    "import os\n",
    "for dirname, _, filenames in os.walk('/kaggle/input'):\n",
    "    for filename in filenames:\n",
    "        print(os.path.join(dirname, filename))\n",
    "\n",
    "# You can write up to 20GB to the current directory (/kaggle/working/) that gets preserved as output when you create a version using \"Save & Run All\" \n",
    "# You can also write temporary files to /kaggle/temp/, but they won't be saved outside of the current session"
   ]
  },
  {
   "cell_type": "code",
   "execution_count": 2,
   "id": "8d65a38c",
   "metadata": {
    "execution": {
     "iopub.execute_input": "2022-09-16T12:37:59.611575Z",
     "iopub.status.busy": "2022-09-16T12:37:59.610164Z",
     "iopub.status.idle": "2022-09-16T12:38:07.085286Z",
     "shell.execute_reply": "2022-09-16T12:38:07.084058Z"
    },
    "papermill": {
     "duration": 7.485259,
     "end_time": "2022-09-16T12:38:07.088157",
     "exception": false,
     "start_time": "2022-09-16T12:37:59.602898",
     "status": "completed"
    },
    "tags": []
   },
   "outputs": [],
   "source": [
    "import tensorflow as tf\n",
    "from tensorflow import keras\n",
    "from tensorflow.keras.preprocessing.text import Tokenizer\n",
    "from tensorflow.keras.preprocessing.sequence import pad_sequences"
   ]
  },
  {
   "cell_type": "code",
   "execution_count": 3,
   "id": "f1825eae",
   "metadata": {
    "execution": {
     "iopub.execute_input": "2022-09-16T12:38:07.102337Z",
     "iopub.status.busy": "2022-09-16T12:38:07.101159Z",
     "iopub.status.idle": "2022-09-16T12:38:07.108719Z",
     "shell.execute_reply": "2022-09-16T12:38:07.107421Z"
    },
    "papermill": {
     "duration": 0.017681,
     "end_time": "2022-09-16T12:38:07.111691",
     "exception": false,
     "start_time": "2022-09-16T12:38:07.094010",
     "status": "completed"
    },
    "tags": []
   },
   "outputs": [],
   "source": [
    "# sentences = [\n",
    "#     'I love my dog',\n",
    "#     'I love my cat',\n",
    "#     'You love my dog!',\n",
    "#     'Do you think my dog is amazing?'\n",
    "# ]\n",
    "\n",
    "# tokenizer = Tokenizer(num_words=100, oov_token=\"<OOV>\")\n",
    "# tokenizer.fit_on_texts(sentences)\n",
    "# word_index = tokenizer.word_index\n",
    "\n",
    "# sequences = tokenizer.texts_to_sequences(sentences)\n",
    "\n",
    "# padded = pad_sequences(sequences, padding='post', truncating='post', maxlen=5)\n",
    "# #padding='post': the zeros will move to the end \n",
    "# #truncating='post' with maxlen if smaller than the string (numbers), it will take the beginning\n",
    "# #otherwise, maxlen will just take the detail\n",
    "# print(word_index)\n",
    "# print(sequences)\n",
    "# print(padded)"
   ]
  },
  {
   "cell_type": "code",
   "execution_count": 4,
   "id": "9c714bb5",
   "metadata": {
    "execution": {
     "iopub.execute_input": "2022-09-16T12:38:07.125547Z",
     "iopub.status.busy": "2022-09-16T12:38:07.125040Z",
     "iopub.status.idle": "2022-09-16T12:38:07.130188Z",
     "shell.execute_reply": "2022-09-16T12:38:07.129006Z"
    },
    "papermill": {
     "duration": 0.015262,
     "end_time": "2022-09-16T12:38:07.132658",
     "exception": false,
     "start_time": "2022-09-16T12:38:07.117396",
     "status": "completed"
    },
    "tags": []
   },
   "outputs": [],
   "source": [
    "# test_data = [\n",
    "#     'I really love my dog',\n",
    "#     'my dog loves my manatee'\n",
    "# ]\n",
    "# test_seq = tokenizer.texts_to_sequences(test_data)\n",
    "# print(test_seq)\n",
    "# print(word_index)"
   ]
  },
  {
   "cell_type": "code",
   "execution_count": 5,
   "id": "48b43784",
   "metadata": {
    "execution": {
     "iopub.execute_input": "2022-09-16T12:38:07.145900Z",
     "iopub.status.busy": "2022-09-16T12:38:07.145355Z",
     "iopub.status.idle": "2022-09-16T12:38:07.150891Z",
     "shell.execute_reply": "2022-09-16T12:38:07.149665Z"
    },
    "papermill": {
     "duration": 0.01523,
     "end_time": "2022-09-16T12:38:07.153569",
     "exception": false,
     "start_time": "2022-09-16T12:38:07.138339",
     "status": "completed"
    },
    "tags": []
   },
   "outputs": [],
   "source": [
    "# import json\n",
    "# with open(\"/kaggle/input/news-headlines-dataset-for-sarcasm-detection/Sarcasm_Headlines_Dataset.json\", 'r') as f:\n",
    "#     datastore = json.load(f)\n",
    "# sentences = []\n",
    "# labels = []\n",
    "# urls = []\n",
    "# for item in datastore:\n",
    "#     sentences.append(item['headline'])\n",
    "#     labels.append(item['is_sarcastic'])\n",
    "#     urls.append(item['article_link'])\n"
   ]
  },
  {
   "cell_type": "code",
   "execution_count": 6,
   "id": "a10055bf",
   "metadata": {
    "execution": {
     "iopub.execute_input": "2022-09-16T12:38:07.167728Z",
     "iopub.status.busy": "2022-09-16T12:38:07.166820Z",
     "iopub.status.idle": "2022-09-16T12:38:07.508898Z",
     "shell.execute_reply": "2022-09-16T12:38:07.507383Z"
    },
    "papermill": {
     "duration": 0.352793,
     "end_time": "2022-09-16T12:38:07.512000",
     "exception": false,
     "start_time": "2022-09-16T12:38:07.159207",
     "status": "completed"
    },
    "tags": []
   },
   "outputs": [
    {
     "data": {
      "text/html": [
       "<div>\n",
       "<style scoped>\n",
       "    .dataframe tbody tr th:only-of-type {\n",
       "        vertical-align: middle;\n",
       "    }\n",
       "\n",
       "    .dataframe tbody tr th {\n",
       "        vertical-align: top;\n",
       "    }\n",
       "\n",
       "    .dataframe thead th {\n",
       "        text-align: right;\n",
       "    }\n",
       "</style>\n",
       "<table border=\"1\" class=\"dataframe\">\n",
       "  <thead>\n",
       "    <tr style=\"text-align: right;\">\n",
       "      <th></th>\n",
       "      <th>article_link</th>\n",
       "      <th>headline</th>\n",
       "      <th>is_sarcastic</th>\n",
       "    </tr>\n",
       "  </thead>\n",
       "  <tbody>\n",
       "    <tr>\n",
       "      <th>0</th>\n",
       "      <td>https://www.huffingtonpost.com/entry/versace-b...</td>\n",
       "      <td>former versace store clerk sues over secret 'b...</td>\n",
       "      <td>0</td>\n",
       "    </tr>\n",
       "    <tr>\n",
       "      <th>1</th>\n",
       "      <td>https://www.huffingtonpost.com/entry/roseanne-...</td>\n",
       "      <td>the 'roseanne' revival catches up to our thorn...</td>\n",
       "      <td>0</td>\n",
       "    </tr>\n",
       "    <tr>\n",
       "      <th>2</th>\n",
       "      <td>https://local.theonion.com/mom-starting-to-fea...</td>\n",
       "      <td>mom starting to fear son's web series closest ...</td>\n",
       "      <td>1</td>\n",
       "    </tr>\n",
       "    <tr>\n",
       "      <th>3</th>\n",
       "      <td>https://politics.theonion.com/boehner-just-wan...</td>\n",
       "      <td>boehner just wants wife to listen, not come up...</td>\n",
       "      <td>1</td>\n",
       "    </tr>\n",
       "    <tr>\n",
       "      <th>4</th>\n",
       "      <td>https://www.huffingtonpost.com/entry/jk-rowlin...</td>\n",
       "      <td>j.k. rowling wishes snape happy birthday in th...</td>\n",
       "      <td>0</td>\n",
       "    </tr>\n",
       "  </tbody>\n",
       "</table>\n",
       "</div>"
      ],
      "text/plain": [
       "                                        article_link  \\\n",
       "0  https://www.huffingtonpost.com/entry/versace-b...   \n",
       "1  https://www.huffingtonpost.com/entry/roseanne-...   \n",
       "2  https://local.theonion.com/mom-starting-to-fea...   \n",
       "3  https://politics.theonion.com/boehner-just-wan...   \n",
       "4  https://www.huffingtonpost.com/entry/jk-rowlin...   \n",
       "\n",
       "                                            headline  is_sarcastic  \n",
       "0  former versace store clerk sues over secret 'b...             0  \n",
       "1  the 'roseanne' revival catches up to our thorn...             0  \n",
       "2  mom starting to fear son's web series closest ...             1  \n",
       "3  boehner just wants wife to listen, not come up...             1  \n",
       "4  j.k. rowling wishes snape happy birthday in th...             0  "
      ]
     },
     "execution_count": 6,
     "metadata": {},
     "output_type": "execute_result"
    }
   ],
   "source": [
    "datastore = pd.read_json(\"/kaggle/input/news-headlines-dataset-for-sarcasm-detection/Sarcasm_Headlines_Dataset.json\",\n",
    "                         lines=True, orient='columns')\n",
    "datastore.head()"
   ]
  },
  {
   "cell_type": "code",
   "execution_count": 7,
   "id": "0e76a5c7",
   "metadata": {
    "execution": {
     "iopub.execute_input": "2022-09-16T12:38:07.526567Z",
     "iopub.status.busy": "2022-09-16T12:38:07.525823Z",
     "iopub.status.idle": "2022-09-16T12:38:07.533898Z",
     "shell.execute_reply": "2022-09-16T12:38:07.532569Z"
    },
    "papermill": {
     "duration": 0.018339,
     "end_time": "2022-09-16T12:38:07.536541",
     "exception": false,
     "start_time": "2022-09-16T12:38:07.518202",
     "status": "completed"
    },
    "tags": []
   },
   "outputs": [
    {
     "data": {
      "text/plain": [
       "(26709, 3)"
      ]
     },
     "execution_count": 7,
     "metadata": {},
     "output_type": "execute_result"
    }
   ],
   "source": [
    "datastore.shape"
   ]
  },
  {
   "cell_type": "code",
   "execution_count": 8,
   "id": "e82ce5ab",
   "metadata": {
    "execution": {
     "iopub.execute_input": "2022-09-16T12:38:07.551342Z",
     "iopub.status.busy": "2022-09-16T12:38:07.550457Z",
     "iopub.status.idle": "2022-09-16T12:38:07.556151Z",
     "shell.execute_reply": "2022-09-16T12:38:07.554885Z"
    },
    "papermill": {
     "duration": 0.016656,
     "end_time": "2022-09-16T12:38:07.559380",
     "exception": false,
     "start_time": "2022-09-16T12:38:07.542724",
     "status": "completed"
    },
    "tags": []
   },
   "outputs": [],
   "source": [
    "sentences = datastore.headline\n",
    "labels = datastore.is_sarcastic"
   ]
  },
  {
   "cell_type": "code",
   "execution_count": 9,
   "id": "40b456e5",
   "metadata": {
    "execution": {
     "iopub.execute_input": "2022-09-16T12:38:07.573742Z",
     "iopub.status.busy": "2022-09-16T12:38:07.573215Z",
     "iopub.status.idle": "2022-09-16T12:38:08.912561Z",
     "shell.execute_reply": "2022-09-16T12:38:08.911190Z"
    },
    "papermill": {
     "duration": 1.349747,
     "end_time": "2022-09-16T12:38:08.915286",
     "exception": false,
     "start_time": "2022-09-16T12:38:07.565539",
     "status": "completed"
    },
    "tags": []
   },
   "outputs": [
    {
     "name": "stdout",
     "output_type": "stream",
     "text": [
      "[  308 15115   679  3337  2298    48   382  2576 15116     6  2577  8434\n",
      "     0     0     0     0     0     0     0     0     0     0     0     0\n",
      "     0     0     0     0     0     0     0     0     0     0     0     0\n",
      "     0     0     0     0]\n",
      "(26709, 40)\n"
     ]
    }
   ],
   "source": [
    "tokenizer = Tokenizer(oov_token=\"<OOV>\")\n",
    "tokenizer.fit_on_texts(sentences)\n",
    "word_index = tokenizer.word_index\n",
    "sequences = tokenizer.texts_to_sequences(sentences)\n",
    "padded = pad_sequences(sequences, padding='post')\n",
    "print(padded[0])\n",
    "print(padded.shape)"
   ]
  },
  {
   "cell_type": "code",
   "execution_count": 10,
   "id": "a32e12b5",
   "metadata": {
    "execution": {
     "iopub.execute_input": "2022-09-16T12:38:08.929735Z",
     "iopub.status.busy": "2022-09-16T12:38:08.928660Z",
     "iopub.status.idle": "2022-09-16T12:38:08.933979Z",
     "shell.execute_reply": "2022-09-16T12:38:08.932728Z"
    },
    "papermill": {
     "duration": 0.015536,
     "end_time": "2022-09-16T12:38:08.936892",
     "exception": false,
     "start_time": "2022-09-16T12:38:08.921356",
     "status": "completed"
    },
    "tags": []
   },
   "outputs": [],
   "source": [
    "# print(word_index)"
   ]
  },
  {
   "cell_type": "code",
   "execution_count": 11,
   "id": "b4a222bf",
   "metadata": {
    "execution": {
     "iopub.execute_input": "2022-09-16T12:38:08.950761Z",
     "iopub.status.busy": "2022-09-16T12:38:08.950257Z",
     "iopub.status.idle": "2022-09-16T12:38:08.955410Z",
     "shell.execute_reply": "2022-09-16T12:38:08.954139Z"
    },
    "papermill": {
     "duration": 0.015176,
     "end_time": "2022-09-16T12:38:08.958079",
     "exception": false,
     "start_time": "2022-09-16T12:38:08.942903",
     "status": "completed"
    },
    "tags": []
   },
   "outputs": [],
   "source": [
    "training_size = 20000"
   ]
  },
  {
   "cell_type": "code",
   "execution_count": 12,
   "id": "29235830",
   "metadata": {
    "execution": {
     "iopub.execute_input": "2022-09-16T12:38:08.972092Z",
     "iopub.status.busy": "2022-09-16T12:38:08.971440Z",
     "iopub.status.idle": "2022-09-16T12:38:08.977997Z",
     "shell.execute_reply": "2022-09-16T12:38:08.976764Z"
    },
    "papermill": {
     "duration": 0.016252,
     "end_time": "2022-09-16T12:38:08.980430",
     "exception": false,
     "start_time": "2022-09-16T12:38:08.964178",
     "status": "completed"
    },
    "tags": []
   },
   "outputs": [],
   "source": [
    "training_sentences = sentences[0:training_size]\n",
    "testing_sentences = sentences[training_size:]\n",
    "training_labels = labels[0:training_size]\n",
    "testing_labels = labels[training_size:]"
   ]
  },
  {
   "cell_type": "code",
   "execution_count": 13,
   "id": "599356b8",
   "metadata": {
    "execution": {
     "iopub.execute_input": "2022-09-16T12:38:08.994776Z",
     "iopub.status.busy": "2022-09-16T12:38:08.993865Z",
     "iopub.status.idle": "2022-09-16T12:38:08.999835Z",
     "shell.execute_reply": "2022-09-16T12:38:08.998531Z"
    },
    "papermill": {
     "duration": 0.01591,
     "end_time": "2022-09-16T12:38:09.002343",
     "exception": false,
     "start_time": "2022-09-16T12:38:08.986433",
     "status": "completed"
    },
    "tags": []
   },
   "outputs": [],
   "source": [
    "vocab_size = 10000\n",
    "max_length = 100\n",
    "padding_type='post'\n",
    "trunc_type='post'"
   ]
  },
  {
   "cell_type": "code",
   "execution_count": 14,
   "id": "13ee7d41",
   "metadata": {
    "execution": {
     "iopub.execute_input": "2022-09-16T12:38:09.019406Z",
     "iopub.status.busy": "2022-09-16T12:38:09.018365Z",
     "iopub.status.idle": "2022-09-16T12:38:10.026768Z",
     "shell.execute_reply": "2022-09-16T12:38:10.025276Z"
    },
    "papermill": {
     "duration": 1.02189,
     "end_time": "2022-09-16T12:38:10.030202",
     "exception": false,
     "start_time": "2022-09-16T12:38:09.008312",
     "status": "completed"
    },
    "tags": []
   },
   "outputs": [],
   "source": [
    "tokenizer = Tokenizer(num_words=vocab_size, oov_token=\"<OOV>\")\n",
    "tokenizer.fit_on_texts(training_sentences)\n",
    "\n",
    "word_index = tokenizer.word_index\n",
    "\n",
    "training_sequences = tokenizer.texts_to_sequences(training_sentences)\n",
    "training_padded = pad_sequences(training_sequences, maxlen=max_length, \n",
    "                                padding=padding_type, truncating=trunc_type)\n",
    "\n",
    "testing_sequences = tokenizer.texts_to_sequences(testing_sentences)\n",
    "testing_padded = pad_sequences(testing_sequences, maxlen=max_length, \n",
    "                               padding=padding_type, truncating=trunc_type)"
   ]
  },
  {
   "cell_type": "code",
   "execution_count": 15,
   "id": "1de4ed47",
   "metadata": {
    "execution": {
     "iopub.execute_input": "2022-09-16T12:38:10.044739Z",
     "iopub.status.busy": "2022-09-16T12:38:10.044216Z",
     "iopub.status.idle": "2022-09-16T12:38:10.206485Z",
     "shell.execute_reply": "2022-09-16T12:38:10.204896Z"
    },
    "papermill": {
     "duration": 0.173742,
     "end_time": "2022-09-16T12:38:10.210048",
     "exception": false,
     "start_time": "2022-09-16T12:38:10.036306",
     "status": "completed"
    },
    "tags": []
   },
   "outputs": [
    {
     "name": "stderr",
     "output_type": "stream",
     "text": [
      "2022-09-16 12:38:10.097485: I tensorflow/core/common_runtime/process_util.cc:146] Creating new thread pool with default inter op setting: 2. Tune using inter_op_parallelism_threads for best performance.\n"
     ]
    }
   ],
   "source": [
    "embedding_dim = 16\n",
    "model = tf.keras.Sequential([\n",
    "    tf.keras.layers.Embedding(vocab_size, embedding_dim, input_length=max_length),\n",
    "    tf.keras.layers.GlobalAveragePooling1D(),\n",
    "    tf.keras.layers.Dense(24, activation='relu'),\n",
    "    tf.keras.layers.Dense(1, activation='sigmoid')\n",
    "])\n",
    "model.compile(loss='binary_crossentropy',optimizer='adam',metrics=['accuracy'])"
   ]
  },
  {
   "cell_type": "code",
   "execution_count": 16,
   "id": "1097f63a",
   "metadata": {
    "execution": {
     "iopub.execute_input": "2022-09-16T12:38:10.225107Z",
     "iopub.status.busy": "2022-09-16T12:38:10.224654Z",
     "iopub.status.idle": "2022-09-16T12:39:33.009134Z",
     "shell.execute_reply": "2022-09-16T12:39:33.007744Z"
    },
    "papermill": {
     "duration": 82.795455,
     "end_time": "2022-09-16T12:39:33.012265",
     "exception": false,
     "start_time": "2022-09-16T12:38:10.216810",
     "status": "completed"
    },
    "tags": []
   },
   "outputs": [
    {
     "name": "stderr",
     "output_type": "stream",
     "text": [
      "2022-09-16 12:38:10.335057: I tensorflow/compiler/mlir/mlir_graph_optimization_pass.cc:185] None of the MLIR Optimization Passes are enabled (registered 2)\n"
     ]
    },
    {
     "name": "stdout",
     "output_type": "stream",
     "text": [
      "Epoch 1/30\n",
      "625/625 - 3s - loss: 0.6630 - accuracy: 0.5840 - val_loss: 0.5871 - val_accuracy: 0.8077\n",
      "Epoch 2/30\n",
      "625/625 - 2s - loss: 0.4322 - accuracy: 0.8310 - val_loss: 0.3907 - val_accuracy: 0.8305\n",
      "Epoch 3/30\n",
      "625/625 - 2s - loss: 0.3123 - accuracy: 0.8787 - val_loss: 0.3566 - val_accuracy: 0.8490\n",
      "Epoch 4/30\n",
      "625/625 - 2s - loss: 0.2623 - accuracy: 0.8968 - val_loss: 0.3425 - val_accuracy: 0.8581\n",
      "Epoch 5/30\n",
      "625/625 - 2s - loss: 0.2243 - accuracy: 0.9141 - val_loss: 0.3788 - val_accuracy: 0.8338\n",
      "Epoch 6/30\n",
      "625/625 - 2s - loss: 0.1965 - accuracy: 0.9259 - val_loss: 0.3556 - val_accuracy: 0.8562\n",
      "Epoch 7/30\n",
      "625/625 - 2s - loss: 0.1759 - accuracy: 0.9352 - val_loss: 0.3957 - val_accuracy: 0.8359\n",
      "Epoch 8/30\n",
      "625/625 - 2s - loss: 0.1571 - accuracy: 0.9427 - val_loss: 0.3746 - val_accuracy: 0.8538\n",
      "Epoch 9/30\n",
      "625/625 - 2s - loss: 0.1412 - accuracy: 0.9499 - val_loss: 0.3907 - val_accuracy: 0.8512\n",
      "Epoch 10/30\n",
      "625/625 - 2s - loss: 0.1284 - accuracy: 0.9546 - val_loss: 0.4443 - val_accuracy: 0.8350\n",
      "Epoch 11/30\n",
      "625/625 - 2s - loss: 0.1180 - accuracy: 0.9593 - val_loss: 0.4410 - val_accuracy: 0.8450\n",
      "Epoch 12/30\n",
      "625/625 - 2s - loss: 0.1071 - accuracy: 0.9627 - val_loss: 0.4675 - val_accuracy: 0.8414\n",
      "Epoch 13/30\n",
      "625/625 - 2s - loss: 0.0978 - accuracy: 0.9671 - val_loss: 0.5134 - val_accuracy: 0.8332\n",
      "Epoch 14/30\n",
      "625/625 - 2s - loss: 0.0902 - accuracy: 0.9696 - val_loss: 0.5032 - val_accuracy: 0.8401\n",
      "Epoch 15/30\n",
      "625/625 - 2s - loss: 0.0819 - accuracy: 0.9738 - val_loss: 0.5532 - val_accuracy: 0.8351\n",
      "Epoch 16/30\n",
      "625/625 - 3s - loss: 0.0768 - accuracy: 0.9744 - val_loss: 0.5867 - val_accuracy: 0.8322\n",
      "Epoch 17/30\n",
      "625/625 - 2s - loss: 0.0717 - accuracy: 0.9768 - val_loss: 0.5870 - val_accuracy: 0.8346\n",
      "Epoch 18/30\n",
      "625/625 - 2s - loss: 0.0654 - accuracy: 0.9796 - val_loss: 0.6181 - val_accuracy: 0.8322\n",
      "Epoch 19/30\n",
      "625/625 - 2s - loss: 0.0599 - accuracy: 0.9819 - val_loss: 0.6674 - val_accuracy: 0.8286\n",
      "Epoch 20/30\n",
      "625/625 - 2s - loss: 0.0570 - accuracy: 0.9818 - val_loss: 0.6807 - val_accuracy: 0.8284\n",
      "Epoch 21/30\n",
      "625/625 - 2s - loss: 0.0498 - accuracy: 0.9853 - val_loss: 0.7200 - val_accuracy: 0.8278\n",
      "Epoch 22/30\n",
      "625/625 - 2s - loss: 0.0481 - accuracy: 0.9862 - val_loss: 0.7744 - val_accuracy: 0.8222\n",
      "Epoch 23/30\n",
      "625/625 - 2s - loss: 0.0444 - accuracy: 0.9868 - val_loss: 0.7887 - val_accuracy: 0.8244\n",
      "Epoch 24/30\n",
      "625/625 - 2s - loss: 0.0411 - accuracy: 0.9880 - val_loss: 0.8591 - val_accuracy: 0.8173\n",
      "Epoch 25/30\n",
      "625/625 - 2s - loss: 0.0375 - accuracy: 0.9895 - val_loss: 0.8432 - val_accuracy: 0.8177\n",
      "Epoch 26/30\n",
      "625/625 - 2s - loss: 0.0351 - accuracy: 0.9904 - val_loss: 0.9029 - val_accuracy: 0.8173\n",
      "Epoch 27/30\n",
      "625/625 - 2s - loss: 0.0340 - accuracy: 0.9897 - val_loss: 0.9237 - val_accuracy: 0.8180\n",
      "Epoch 28/30\n",
      "625/625 - 2s - loss: 0.0293 - accuracy: 0.9924 - val_loss: 0.9741 - val_accuracy: 0.8161\n",
      "Epoch 29/30\n",
      "625/625 - 3s - loss: 0.0276 - accuracy: 0.9926 - val_loss: 0.9998 - val_accuracy: 0.8155\n",
      "Epoch 30/30\n",
      "625/625 - 3s - loss: 0.0261 - accuracy: 0.9930 - val_loss: 1.0373 - val_accuracy: 0.8150\n"
     ]
    }
   ],
   "source": [
    "num_epochs = 30\n",
    "history = model.fit(training_padded, training_labels, epochs=num_epochs, \n",
    "                    validation_data=(testing_padded, testing_labels), verbose=2)"
   ]
  },
  {
   "cell_type": "code",
   "execution_count": 17,
   "id": "ac752532",
   "metadata": {
    "execution": {
     "iopub.execute_input": "2022-09-16T12:39:33.033892Z",
     "iopub.status.busy": "2022-09-16T12:39:33.033383Z",
     "iopub.status.idle": "2022-09-16T12:39:33.519171Z",
     "shell.execute_reply": "2022-09-16T12:39:33.517961Z"
    },
    "papermill": {
     "duration": 0.49991,
     "end_time": "2022-09-16T12:39:33.522051",
     "exception": false,
     "start_time": "2022-09-16T12:39:33.022141",
     "status": "completed"
    },
    "tags": []
   },
   "outputs": [
    {
     "data": {
      "image/png": "[encoded data removed]",
      "text/plain": [
       "<Figure size 432x288 with 1 Axes>"
      ]
     },
     "metadata": {
      "needs_background": "light"
     },
     "output_type": "display_data"
    },
    {
     "data": {
      "image/png": "[encoded data removed]",
      "text/plain": [
       "<Figure size 432x288 with 1 Axes>"
      ]
     },
     "metadata": {
      "needs_background": "light"
     },
     "output_type": "display_data"
    }
   ],
   "source": [
    "import matplotlib.pyplot as plt\n",
    "def plot_graphs(history, string):\n",
    "    plt.plot(history.history[string])\n",
    "    plt.plot(history.history['val_'+string])\n",
    "    plt.xlabel(\"Epochs\")\n",
    "    plt.ylabel(string)\n",
    "    plt.legend([string, 'val_'+string])\n",
    "    plt.show()\n",
    "  \n",
    "plot_graphs(history, \"accuracy\")\n",
    "plot_graphs(history, \"loss\")"
   ]
  },
  {
   "cell_type": "code",
   "execution_count": 18,
   "id": "652c35cc",
   "metadata": {
    "execution": {
     "iopub.execute_input": "2022-09-16T12:39:33.546221Z",
     "iopub.status.busy": "2022-09-16T12:39:33.545185Z",
     "iopub.status.idle": "2022-09-16T12:39:33.709849Z",
     "shell.execute_reply": "2022-09-16T12:39:33.708133Z"
    },
    "papermill": {
     "duration": 0.180409,
     "end_time": "2022-09-16T12:39:33.713295",
     "exception": false,
     "start_time": "2022-09-16T12:39:33.532886",
     "status": "completed"
    },
    "tags": []
   },
   "outputs": [
    {
     "name": "stdout",
     "output_type": "stream",
     "text": [
      "[[8.4530985e-01]\n",
      " [1.2913682e-05]]\n"
     ]
    }
   ],
   "source": [
    "sentence = [\"granny starting to fear spiders in the garden might be real\",\n",
    "            \"game of thrones season finale showing this sunday night\"]\n",
    "sequences = tokenizer.texts_to_sequences(sentence)\n",
    "padded = pad_sequences(sequences, maxlen=max_length, padding=padding_type, truncating=trunc_type)\n",
    "print(model.predict(padded))"
   ]
  },
  {
   "cell_type": "code",
   "execution_count": null,
   "id": "de5e2762",
   "metadata": {
    "papermill": {
     "duration": 0.009929,
     "end_time": "2022-09-16T12:39:33.733932",
     "exception": false,
     "start_time": "2022-09-16T12:39:33.724003",
     "status": "completed"
    },
    "tags": []
   },
   "outputs": [],
   "source": []
  }
 ],
 "metadata": {
  "kernelspec": {
   "display_name": "Python 3",
   "language": "python",
   "name": "python3"
  },
  "language_info": {
   "codemirror_mode": {
    "name": "ipython",
    "version": 3
   },
   "file_extension": ".py",
   "mimetype": "text/x-python",
   "name": "python",
   "nbconvert_exporter": "python",
   "pygments_lexer": "ipython3",
   "version": "3.7.12"
  },
  "papermill": {
   "default_parameters": {},
   "duration": 108.33954,
   "end_time": "2022-09-16T12:39:37.233785",
   "environment_variables": {},
   "exception": null,
   "input_path": "__notebook__.ipynb",
   "output_path": "__notebook__.ipynb",
   "parameters": {},
   "start_time": "2022-09-16T12:37:48.894245",
   "version": "2.3.4"
  }
 },
 "nbformat": 4,
 "nbformat_minor": 5
}
